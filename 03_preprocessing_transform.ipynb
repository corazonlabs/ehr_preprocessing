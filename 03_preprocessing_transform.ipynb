{
 "cells": [
  {
   "cell_type": "code",
   "execution_count": null,
   "metadata": {},
   "outputs": [],
   "source": [
    "# default_exp preprocessing.transform"
   ]
  },
  {
   "cell_type": "markdown",
   "metadata": {},
   "source": [
    "# preprocessing.transform"
   ]
  },
  {
   "cell_type": "code",
   "execution_count": null,
   "metadata": {},
   "outputs": [
    {
     "data": {
      "text/html": [
       "<style>.container { width:85% !important; }</style>"
      ],
      "text/plain": [
       "<IPython.core.display.HTML object>"
      ]
     },
     "metadata": {},
     "output_type": "display_data"
    }
   ],
   "source": [
    "#hide\n",
    "from IPython.core.display import display, HTML\n",
    "display(HTML(\"<style>.container { width:85% !important; }</style>\"))"
   ]
  },
  {
   "cell_type": "code",
   "execution_count": null,
   "metadata": {},
   "outputs": [],
   "source": [
    "#hide\n",
    "%reload_ext autoreload\n",
    "%autoreload 2\n",
    "%matplotlib inline"
   ]
  },
  {
   "cell_type": "code",
   "execution_count": null,
   "metadata": {},
   "outputs": [],
   "source": [
    "#export\n",
    "from lemonade.preprocessing.clean import *\n",
    "from lemonade.preprocessing.vocab import *\n",
    "from fastai.imports import *\n",
    "from fastai import *\n",
    "from datetime import date"
   ]
  },
  {
   "cell_type": "code",
   "execution_count": null,
   "metadata": {},
   "outputs": [],
   "source": [
    "#hide\n",
    "from nbdev.showdoc import *"
   ]
  },
  {
   "cell_type": "markdown",
   "metadata": {},
   "source": [
    "<h1>Table of Contents<span class=\"tocSkip\"></span></h1>\n",
    "<div class=\"toc\"><ul class=\"toc-item\"><li><span><a href=\"#Import\" data-toc-modified-id=\"Import-1\"><span class=\"toc-item-num\">1&nbsp;&nbsp;</span>Import</a></span></li><li><span><a href=\"#Load-Data\" data-toc-modified-id=\"Load-Data-2\"><span class=\"toc-item-num\">2&nbsp;&nbsp;</span>Load Data</a></span><ul class=\"toc-item\"><li><span><a href=\"#Load-Cleaned-Data\" data-toc-modified-id=\"Load-Cleaned-Data-2.1\"><span class=\"toc-item-num\">2.1&nbsp;&nbsp;</span>Load Cleaned Data</a></span></li><li><span><a href=\"#Load-Vocabs\" data-toc-modified-id=\"Load-Vocabs-2.2\"><span class=\"toc-item-num\">2.2&nbsp;&nbsp;</span>Load Vocabs</a></span></li></ul></li><li><span><a href=\"#Assemble-Single-Patient\" data-toc-modified-id=\"Assemble-Single-Patient-3\"><span class=\"toc-item-num\">3&nbsp;&nbsp;</span>Assemble Single Patient</a></span><ul class=\"toc-item\"><li><span><a href=\"#Collate-Codes-&amp;-Offsets\" data-toc-modified-id=\"Collate-Codes-&amp;-Offsets-3.1\"><span class=\"toc-item-num\">3.1&nbsp;&nbsp;</span>Collate Codes &amp; Offsets</a></span><ul class=\"toc-item\"><li><span><a href=\"#rec_dfs[[ptid]]-+-demographics[[ptid]]\" data-toc-modified-id=\"rec_dfs[[ptid]]-+-demographics[[ptid]]-3.1.1\"><span class=\"toc-item-num\">3.1.1&nbsp;&nbsp;</span><code>rec_dfs[[ptid]]</code> + <code>demographics[[ptid]]</code></a></span><ul class=\"toc-item\"><li><span><a href=\"#Single-Value-Returned---Check\" data-toc-modified-id=\"Single-Value-Returned---Check-3.1.1.1\"><span class=\"toc-item-num\">3.1.1.1&nbsp;&nbsp;</span>Single Value Returned - Check</a></span></li></ul></li><li><span><a href=\"#collate_codes_offsts()\" data-toc-modified-id=\"collate_codes_offsts()-3.1.2\"><span class=\"toc-item-num\">3.1.2&nbsp;&nbsp;</span><code>collate_codes_offsts()</code></a></span><ul class=\"toc-item\"><li><span><a href=\"#Old---delete\" data-toc-modified-id=\"Old---delete-3.1.2.1\"><span class=\"toc-item-num\">3.1.2.1&nbsp;&nbsp;</span>Old - delete</a></span></li><li><span><a href=\"#Tests\" data-toc-modified-id=\"Tests-3.1.2.2\"><span class=\"toc-item-num\">3.1.2.2&nbsp;&nbsp;</span>Tests</a></span></li></ul></li><li><span><a href=\"#Numericalize-codes\" data-toc-modified-id=\"Numericalize-codes-3.1.3\"><span class=\"toc-item-num\">3.1.3&nbsp;&nbsp;</span>Numericalize codes</a></span><ul class=\"toc-item\"><li><span><a href=\"#Experiments\" data-toc-modified-id=\"Experiments-3.1.3.1\"><span class=\"toc-item-num\">3.1.3.1&nbsp;&nbsp;</span>Experiments</a></span></li><li><span><a href=\"#get_codenums_offsts()\" data-toc-modified-id=\"get_codenums_offsts()-3.1.3.2\"><span class=\"toc-item-num\">3.1.3.2&nbsp;&nbsp;</span><code>get_codenums_offsts()</code></a></span></li></ul></li><li><span><a href=\"#get_demographics()\" data-toc-modified-id=\"get_demographics()-3.1.4\"><span class=\"toc-item-num\">3.1.4&nbsp;&nbsp;</span><code>get_demographics()</code></a></span></li><li><span><a href=\"#Tests\" data-toc-modified-id=\"Tests-3.1.5\"><span class=\"toc-item-num\">3.1.5&nbsp;&nbsp;</span>Tests</a></span><ul class=\"toc-item\"><li><span><a href=\"#Codes-&amp;-Offsets\" data-toc-modified-id=\"Codes-&amp;-Offsets-3.1.5.1\"><span class=\"toc-item-num\">3.1.5.1&nbsp;&nbsp;</span>Codes &amp; Offsets</a></span></li><li><span><a href=\"#Numericalize-+-tensor\" data-toc-modified-id=\"Numericalize-+-tensor-3.1.5.2\"><span class=\"toc-item-num\">3.1.5.2&nbsp;&nbsp;</span>Numericalize + tensor</a></span></li><li><span><a href=\"#Demographics\" data-toc-modified-id=\"Demographics-3.1.5.3\"><span class=\"toc-item-num\">3.1.5.3&nbsp;&nbsp;</span>Demographics</a></span></li></ul></li></ul></li></ul></li><li><span><a href=\"#ItemBase---Patient\" data-toc-modified-id=\"ItemBase---Patient-4\"><span class=\"toc-item-num\">4&nbsp;&nbsp;</span><code>ItemBase</code> - Patient</a></span><ul class=\"toc-item\"><li><ul class=\"toc-item\"><li><span><a href=\"#.cuda(),-CUDA-Semantics,-Monkey-Patching-Lists-for-CUDA\" data-toc-modified-id=\".cuda(),-CUDA-Semantics,-Monkey-Patching-Lists-for-CUDA-4.0.1\"><span class=\"toc-item-num\">4.0.1&nbsp;&nbsp;</span><code>.cuda()</code>, CUDA Semantics, Monkey-Patching Lists for CUDA</a></span></li></ul></li><li><span><a href=\"#Class-Patient\" data-toc-modified-id=\"Class-Patient-4.1\"><span class=\"toc-item-num\">4.1&nbsp;&nbsp;</span>Class <code>Patient</code></a></span><ul class=\"toc-item\"><li><span><a href=\"#Tests\" data-toc-modified-id=\"Tests-4.1.1\"><span class=\"toc-item-num\">4.1.1&nbsp;&nbsp;</span>Tests</a></span></li></ul></li></ul></li><li><span><a href=\"#ItemList---PatientList\" data-toc-modified-id=\"ItemList---PatientList-5\"><span class=\"toc-item-num\">5&nbsp;&nbsp;</span><code>ItemList</code> - PatientList</a></span><ul class=\"toc-item\"><li><span><a href=\"#Multiprocessing-Implementation\" data-toc-modified-id=\"Multiprocessing-Implementation-5.1\"><span class=\"toc-item-num\">5.1&nbsp;&nbsp;</span>Multiprocessing Implementation</a></span><ul class=\"toc-item\"><li><span><a href=\"#Chunking\" data-toc-modified-id=\"Chunking-5.1.1\"><span class=\"toc-item-num\">5.1.1&nbsp;&nbsp;</span>Chunking</a></span></li><li><span><a href=\"#Multiprocessing-Logic\" data-toc-modified-id=\"Multiprocessing-Logic-5.1.2\"><span class=\"toc-item-num\">5.1.2&nbsp;&nbsp;</span>Multiprocessing Logic</a></span><ul class=\"toc-item\"><li><span><a href=\"#Useful-Links-+-Tips\" data-toc-modified-id=\"Useful-Links-+-Tips-5.1.2.1\"><span class=\"toc-item-num\">5.1.2.1&nbsp;&nbsp;</span>Useful Links + Tips</a></span></li></ul></li></ul></li><li><span><a href=\"#Class-PatientList\" data-toc-modified-id=\"Class-PatientList-5.2\"><span class=\"toc-item-num\">5.2&nbsp;&nbsp;</span>Class <code>PatientList</code></a></span><ul class=\"toc-item\"><li><span><a href=\"#get_pckl_dir()-Util-Function\" data-toc-modified-id=\"get_pckl_dir()-Util-Function-5.2.1\"><span class=\"toc-item-num\">5.2.1&nbsp;&nbsp;</span><code>get_pckl_dir()</code> Util Function</a></span></li><li><span><a href=\"#Awesome-&amp;-Fast-PatientList-class\" data-toc-modified-id=\"Awesome-&amp;-Fast-PatientList-class-5.2.2\"><span class=\"toc-item-num\">5.2.2&nbsp;&nbsp;</span>Awesome &amp; Fast <code>PatientList</code> class</a></span><ul class=\"toc-item\"><li><span><a href=\"#Test\" data-toc-modified-id=\"Test-5.2.2.1\"><span class=\"toc-item-num\">5.2.2.1&nbsp;&nbsp;</span>Test</a></span></li></ul></li></ul></li></ul></li><li><span><a href=\"#create_all_ptlists()\" data-toc-modified-id=\"create_all_ptlists()-6\"><span class=\"toc-item-num\">6&nbsp;&nbsp;</span><code>create_all_ptlists()</code></a></span><ul class=\"toc-item\"><li><ul class=\"toc-item\"><li><span><a href=\"#Tests\" data-toc-modified-id=\"Tests-6.0.1\"><span class=\"toc-item-num\">6.0.1&nbsp;&nbsp;</span>Tests</a></span><ul class=\"toc-item\"><li><span><a href=\"#1K\" data-toc-modified-id=\"1K-6.0.1.1\"><span class=\"toc-item-num\">6.0.1.1&nbsp;&nbsp;</span>1K</a></span></li><li><span><a href=\"#10K\" data-toc-modified-id=\"10K-6.0.1.2\"><span class=\"toc-item-num\">6.0.1.2&nbsp;&nbsp;</span>10K</a></span></li></ul></li></ul></li></ul></li><li><span><a href=\"#Do-All-Preprocessing\" data-toc-modified-id=\"Do-All-Preprocessing-7\"><span class=\"toc-item-num\">7&nbsp;&nbsp;</span>Do All Preprocessing</a></span></li><li><span><a href=\"#Export\" data-toc-modified-id=\"Export-8\"><span class=\"toc-item-num\">8&nbsp;&nbsp;</span>Export</a></span></li></ul></div>"
   ]
  },
  {
   "cell_type": "markdown",
   "metadata": {},
   "source": [
    "### Load Cleaned Data"
   ]
  },
  {
   "cell_type": "code",
   "execution_count": null,
   "metadata": {},
   "outputs": [
    {
     "data": {
      "text/plain": [
       "('./datasets/synthea/1K', './datasets/synthea/10K')"
      ]
     },
     "execution_count": null,
     "metadata": {},
     "output_type": "execute_result"
    }
   ],
   "source": [
    "PATH_1K, PATH_10K"
   ]
  },
  {
   "cell_type": "code",
   "execution_count": null,
   "metadata": {},
   "outputs": [
    {
     "data": {
      "text/plain": [
       "{'diabetes': '44054006||START',\n",
       " 'stroke': '230690007||START',\n",
       " 'alzheimers': '26929004||START',\n",
       " 'coronary_heart': '53741008||START'}"
      ]
     },
     "execution_count": null,
     "metadata": {},
     "output_type": "execute_result"
    }
   ],
   "source": [
    "CONDITIONS"
   ]
  },
  {
   "cell_type": "code",
   "execution_count": null,
   "metadata": {},
   "outputs": [],
   "source": [
    "train_dfs, valid_dfs, test_dfs = load_cleaned_ehrdata(PATH_1K)"
   ]
  },
  {
   "cell_type": "code",
   "execution_count": null,
   "metadata": {},
   "outputs": [],
   "source": [
    "#[patients, patient_demographics, observations, allergies, careplans, medications, imaging_studies, procedures, conditions, immunizations]\n",
    "all_dfs = train_dfs\n",
    "patients_df, patient_demographics_df, all_rec_dfs = all_dfs[0], all_dfs[1], all_dfs[2:]"
   ]
  },
  {
   "cell_type": "code",
   "execution_count": null,
   "metadata": {},
   "outputs": [],
   "source": [
    "# [display(df.head()) for df in all_dfs]"
   ]
  },
  {
   "cell_type": "code",
   "execution_count": null,
   "metadata": {},
   "outputs": [
    {
     "data": {
      "text/html": [
       "<div>\n",
       "<style scoped>\n",
       "    .dataframe tbody tr th:only-of-type {\n",
       "        vertical-align: middle;\n",
       "    }\n",
       "\n",
       "    .dataframe tbody tr th {\n",
       "        vertical-align: top;\n",
       "    }\n",
       "\n",
       "    .dataframe thead th {\n",
       "        text-align: right;\n",
       "    }\n",
       "</style>\n",
       "<table border=\"1\" class=\"dataframe\">\n",
       "  <thead>\n",
       "    <tr style=\"text-align: right;\">\n",
       "      <th></th>\n",
       "      <th>patient</th>\n",
       "      <th>birthdate</th>\n",
       "      <th>diabetes_y</th>\n",
       "      <th>diabetes_age</th>\n",
       "      <th>stroke_y</th>\n",
       "      <th>stroke_age</th>\n",
       "      <th>alzheimers_y</th>\n",
       "      <th>alzheimers_age</th>\n",
       "      <th>coronary_heart_y</th>\n",
       "      <th>coronary_heart_age</th>\n",
       "    </tr>\n",
       "    <tr>\n",
       "      <th>indx</th>\n",
       "      <th></th>\n",
       "      <th></th>\n",
       "      <th></th>\n",
       "      <th></th>\n",
       "      <th></th>\n",
       "      <th></th>\n",
       "      <th></th>\n",
       "      <th></th>\n",
       "      <th></th>\n",
       "      <th></th>\n",
       "    </tr>\n",
       "  </thead>\n",
       "  <tbody>\n",
       "    <tr>\n",
       "      <th>0</th>\n",
       "      <td>e4361ed5-5ef7-407d-b5d3-576155ed66cd</td>\n",
       "      <td>1988-05-16</td>\n",
       "      <td>False</td>\n",
       "      <td>NaN</td>\n",
       "      <td>False</td>\n",
       "      <td>NaN</td>\n",
       "      <td>False</td>\n",
       "      <td>NaN</td>\n",
       "      <td>False</td>\n",
       "      <td>NaN</td>\n",
       "    </tr>\n",
       "    <tr>\n",
       "      <th>1</th>\n",
       "      <td>b28ca05e-a076-4868-a1af-168ae06b59ce</td>\n",
       "      <td>1990-06-12</td>\n",
       "      <td>False</td>\n",
       "      <td>NaN</td>\n",
       "      <td>False</td>\n",
       "      <td>NaN</td>\n",
       "      <td>False</td>\n",
       "      <td>NaN</td>\n",
       "      <td>False</td>\n",
       "      <td>NaN</td>\n",
       "    </tr>\n",
       "    <tr>\n",
       "      <th>2</th>\n",
       "      <td>7c2b8c3b-fa87-44e9-b868-01db98dad56c</td>\n",
       "      <td>1988-09-05</td>\n",
       "      <td>False</td>\n",
       "      <td>NaN</td>\n",
       "      <td>False</td>\n",
       "      <td>NaN</td>\n",
       "      <td>False</td>\n",
       "      <td>NaN</td>\n",
       "      <td>False</td>\n",
       "      <td>NaN</td>\n",
       "    </tr>\n",
       "    <tr>\n",
       "      <th>3</th>\n",
       "      <td>0731de61-1a8b-4135-83c0-2ace696bcac8</td>\n",
       "      <td>1934-11-27</td>\n",
       "      <td>False</td>\n",
       "      <td>NaN</td>\n",
       "      <td>False</td>\n",
       "      <td>NaN</td>\n",
       "      <td>False</td>\n",
       "      <td>NaN</td>\n",
       "      <td>False</td>\n",
       "      <td>NaN</td>\n",
       "    </tr>\n",
       "    <tr>\n",
       "      <th>4</th>\n",
       "      <td>a119d309-9cac-415a-b9bd-c0cf10f15beb</td>\n",
       "      <td>1980-12-23</td>\n",
       "      <td>False</td>\n",
       "      <td>NaN</td>\n",
       "      <td>False</td>\n",
       "      <td>NaN</td>\n",
       "      <td>False</td>\n",
       "      <td>NaN</td>\n",
       "      <td>False</td>\n",
       "      <td>NaN</td>\n",
       "    </tr>\n",
       "  </tbody>\n",
       "</table>\n",
       "</div>"
      ],
      "text/plain": [
       "                                   patient   birthdate  diabetes_y  \\\n",
       "indx                                                                 \n",
       "0     e4361ed5-5ef7-407d-b5d3-576155ed66cd  1988-05-16       False   \n",
       "1     b28ca05e-a076-4868-a1af-168ae06b59ce  1990-06-12       False   \n",
       "2     7c2b8c3b-fa87-44e9-b868-01db98dad56c  1988-09-05       False   \n",
       "3     0731de61-1a8b-4135-83c0-2ace696bcac8  1934-11-27       False   \n",
       "4     a119d309-9cac-415a-b9bd-c0cf10f15beb  1980-12-23       False   \n",
       "\n",
       "      diabetes_age  stroke_y  stroke_age  alzheimers_y  alzheimers_age  \\\n",
       "indx                                                                     \n",
       "0              NaN     False         NaN         False             NaN   \n",
       "1              NaN     False         NaN         False             NaN   \n",
       "2              NaN     False         NaN         False             NaN   \n",
       "3              NaN     False         NaN         False             NaN   \n",
       "4              NaN     False         NaN         False             NaN   \n",
       "\n",
       "      coronary_heart_y  coronary_heart_age  \n",
       "indx                                        \n",
       "0                False                 NaN  \n",
       "1                False                 NaN  \n",
       "2                False                 NaN  \n",
       "3                False                 NaN  \n",
       "4                False                 NaN  "
      ]
     },
     "execution_count": null,
     "metadata": {},
     "output_type": "execute_result"
    }
   ],
   "source": [
    "patients_df.head()"
   ]
  },
  {
   "cell_type": "code",
   "execution_count": null,
   "metadata": {},
   "outputs": [
    {
     "data": {
      "text/plain": [
       "array(['b28ca05e-a076-4868-a1af-168ae06b59ce', '1990-06-12', False, nan,\n",
       "       False, nan, False, nan, False, nan], dtype=object)"
      ]
     },
     "execution_count": null,
     "metadata": {},
     "output_type": "execute_result"
    }
   ],
   "source": [
    "vals = all_dfs[0].iloc[1].values\n",
    "vals"
   ]
  },
  {
   "cell_type": "code",
   "execution_count": null,
   "metadata": {},
   "outputs": [
    {
     "data": {
      "text/plain": [
       "('b28ca05e-a076-4868-a1af-168ae06b59ce',\n",
       " '1990-06-12',\n",
       " False,\n",
       " False,\n",
       " False,\n",
       " False)"
      ]
     },
     "execution_count": null,
     "metadata": {},
     "output_type": "execute_result"
    }
   ],
   "source": [
    "vals[0], vals[1], vals[2], vals[4], vals[6], vals[8]"
   ]
  },
  {
   "cell_type": "markdown",
   "metadata": {},
   "source": [
    "#### Load Vocabs"
   ]
  },
  {
   "cell_type": "code",
   "execution_count": null,
   "metadata": {},
   "outputs": [],
   "source": [
    "vocab_list_1K = EhrVocabList.load(PATH_1K)\n",
    "obs_vocab, alg_vocab, crpl_vocab, med_vocab, img_vocab, proc_vocab, cnd_vocab, imm_vocab = vocab_list_1K.records_vocabs\n",
    "bday, bmonth, byear, marital, race, ethnicity, gender, birthplace, city, state, zipcode  = vocab_list_1K.demographics_vocabs\n",
    "age_mean, age_std = vocab_list_1K.age_mean, vocab_list_1K.age_std"
   ]
  },
  {
   "cell_type": "code",
   "execution_count": null,
   "metadata": {},
   "outputs": [],
   "source": [
    "#all emb dimensions to be passed into model to determine nh\n",
    "demographics_dims, recs_dims, demographics_dims_width, recs_dims_width = get_all_emb_dims(EhrVocabList.load(PATH_1K))"
   ]
  },
  {
   "cell_type": "code",
   "execution_count": null,
   "metadata": {},
   "outputs": [
    {
     "data": {
      "text/plain": [
       "[(33, 8),\n",
       " (14, 7),\n",
       " (124, 11),\n",
       " (5, 5),\n",
       " (7, 6),\n",
       " (25, 8),\n",
       " (4, 5),\n",
       " (205, 13),\n",
       " (211, 13),\n",
       " (3, 5),\n",
       " (200, 13)]"
      ]
     },
     "execution_count": null,
     "metadata": {},
     "output_type": "execute_result"
    }
   ],
   "source": [
    "demographics_dims"
   ]
  },
  {
   "cell_type": "code",
   "execution_count": null,
   "metadata": {},
   "outputs": [
    {
     "data": {
      "text/plain": [
       "[(550, 17),\n",
       " (27, 8),\n",
       " (54, 9),\n",
       " (224, 13),\n",
       " (11, 6),\n",
       " (128, 12),\n",
       " (201, 13),\n",
       " (20, 7)]"
      ]
     },
     "execution_count": null,
     "metadata": {},
     "output_type": "execute_result"
    }
   ],
   "source": [
    "recs_dims"
   ]
  },
  {
   "cell_type": "code",
   "execution_count": null,
   "metadata": {},
   "outputs": [
    {
     "data": {
      "text/plain": [
       "(94, 85)"
      ]
     },
     "execution_count": null,
     "metadata": {},
     "output_type": "execute_result"
    }
   ],
   "source": [
    "demographics_dims_width, recs_dims_width"
   ]
  },
  {
   "cell_type": "markdown",
   "metadata": {},
   "source": [
    "## Assemble Single Patient"
   ]
  },
  {
   "cell_type": "code",
   "execution_count": null,
   "metadata": {},
   "outputs": [],
   "source": [
    "# for t in data_tables: display(t.head())"
   ]
  },
  {
   "cell_type": "code",
   "execution_count": null,
   "metadata": {},
   "outputs": [],
   "source": [
    "tst_ptid='0731de61-1a8b-4135-83c0-2ace696bcac8'"
   ]
  },
  {
   "cell_type": "code",
   "execution_count": null,
   "metadata": {},
   "outputs": [
    {
     "data": {
      "text/html": [
       "<div>\n",
       "<style scoped>\n",
       "    .dataframe tbody tr th:only-of-type {\n",
       "        vertical-align: middle;\n",
       "    }\n",
       "\n",
       "    .dataframe tbody tr th {\n",
       "        vertical-align: top;\n",
       "    }\n",
       "\n",
       "    .dataframe thead th {\n",
       "        text-align: right;\n",
       "    }\n",
       "</style>\n",
       "<table border=\"1\" class=\"dataframe\">\n",
       "  <thead>\n",
       "    <tr style=\"text-align: right;\">\n",
       "      <th></th>\n",
       "      <th>patient</th>\n",
       "      <th>birthdate</th>\n",
       "      <th>diabetes_y</th>\n",
       "      <th>diabetes_age</th>\n",
       "      <th>stroke_y</th>\n",
       "      <th>stroke_age</th>\n",
       "      <th>alzheimers_y</th>\n",
       "      <th>alzheimers_age</th>\n",
       "      <th>coronary_heart_y</th>\n",
       "      <th>coronary_heart_age</th>\n",
       "    </tr>\n",
       "    <tr>\n",
       "      <th>indx</th>\n",
       "      <th></th>\n",
       "      <th></th>\n",
       "      <th></th>\n",
       "      <th></th>\n",
       "      <th></th>\n",
       "      <th></th>\n",
       "      <th></th>\n",
       "      <th></th>\n",
       "      <th></th>\n",
       "      <th></th>\n",
       "    </tr>\n",
       "  </thead>\n",
       "  <tbody>\n",
       "    <tr>\n",
       "      <th>3</th>\n",
       "      <td>0731de61-1a8b-4135-83c0-2ace696bcac8</td>\n",
       "      <td>1934-11-27</td>\n",
       "      <td>False</td>\n",
       "      <td>NaN</td>\n",
       "      <td>False</td>\n",
       "      <td>NaN</td>\n",
       "      <td>False</td>\n",
       "      <td>NaN</td>\n",
       "      <td>False</td>\n",
       "      <td>NaN</td>\n",
       "    </tr>\n",
       "  </tbody>\n",
       "</table>\n",
       "</div>"
      ],
      "text/plain": [
       "                                   patient   birthdate  diabetes_y  \\\n",
       "indx                                                                 \n",
       "3     0731de61-1a8b-4135-83c0-2ace696bcac8  1934-11-27       False   \n",
       "\n",
       "      diabetes_age  stroke_y  stroke_age  alzheimers_y  alzheimers_age  \\\n",
       "indx                                                                     \n",
       "3              NaN     False         NaN         False             NaN   \n",
       "\n",
       "      coronary_heart_y  coronary_heart_age  \n",
       "indx                                        \n",
       "3                False                 NaN  "
      ]
     },
     "execution_count": null,
     "metadata": {},
     "output_type": "execute_result"
    }
   ],
   "source": [
    "tst_pt = patients_df[patients_df.patient == tst_ptid]\n",
    "tst_pt"
   ]
  },
  {
   "cell_type": "code",
   "execution_count": null,
   "metadata": {},
   "outputs": [
    {
     "data": {
      "text/plain": [
       "birthdate          1934-11-27\n",
       "marital                     M\n",
       "race                    white\n",
       "ethnicity          portuguese\n",
       "gender                      F\n",
       "birthplace             Boston\n",
       "city               Foxborough\n",
       "state           Massachusetts\n",
       "zip                      2035\n",
       "age_now_days            30670\n",
       "Name: 0731de61-1a8b-4135-83c0-2ace696bcac8, dtype: object"
      ]
     },
     "execution_count": null,
     "metadata": {},
     "output_type": "execute_result"
    }
   ],
   "source": [
    "patient_demographics_df.loc[tst_ptid]"
   ]
  },
  {
   "cell_type": "code",
   "execution_count": null,
   "metadata": {},
   "outputs": [
    {
     "data": {
      "text/plain": [
       "'1934-11-27'"
      ]
     },
     "execution_count": null,
     "metadata": {},
     "output_type": "execute_result"
    }
   ],
   "source": [
    "tst_pt_birthdate = tst_pt.birthdate.values[0]\n",
    "tst_pt_birthdate"
   ]
  },
  {
   "cell_type": "code",
   "execution_count": null,
   "metadata": {},
   "outputs": [],
   "source": [
    "tst_pt_diabetes, tst_pt_stroke, tst_pt_alzheimers, tst_pt_coronaryheart = \\\n",
    "    tst_pt.diabetes_y.values[0], tst_pt.stroke_y.values[0], tst_pt.alzheimers_y.values[0], tst_pt.coronary_heart_y.values[0]"
   ]
  },
  {
   "cell_type": "code",
   "execution_count": null,
   "metadata": {},
   "outputs": [
    {
     "data": {
      "text/plain": [
       "(False, False, False, False)"
      ]
     },
     "execution_count": null,
     "metadata": {},
     "output_type": "execute_result"
    }
   ],
   "source": [
    "tst_pt_diabetes, tst_pt_stroke, tst_pt_alzheimers, tst_pt_coronaryheart"
   ]
  },
  {
   "cell_type": "markdown",
   "metadata": {},
   "source": [
    "### Collate Codes & Offsets"
   ]
  },
  {
   "cell_type": "markdown",
   "metadata": {},
   "source": [
    "#hide\n",
    "### `rec_dfs[[ptid]]` + `demographics[[ptid]]`\n",
    "**being done in `PatientList` - So this only for testing**"
   ]
  },
  {
   "cell_type": "markdown",
   "metadata": {},
   "source": [
    "- **Filter out for this patient** \n",
    " - df already filtered by cutoff age)\n",
    " - This is being done in `PatientList`, this is just for testing, **i.e. this will never be called**\n",
    "- Use double `[[ptid]]` so that - even when single values are returned as a df"
   ]
  },
  {
   "cell_type": "code",
   "execution_count": null,
   "metadata": {},
   "outputs": [],
   "source": [
    "#hide\n",
    "def get_rec_dfs(all_rec_dfs, ptid):\n",
    "    rec_dfs = []\n",
    "    for rec_df in all_rec_dfs:\n",
    "        try:\n",
    "            rec_dfs.append(rec_df.loc[[ptid]])\n",
    "        except KeyError:\n",
    "            rec_dfs.append(pd.DataFrame())\n",
    "    return rec_dfs"
   ]
  },
  {
   "cell_type": "code",
   "execution_count": null,
   "metadata": {},
   "outputs": [
    {
     "name": "stdout",
     "output_type": "stream",
     "text": [
      "CPU times: user 32.4 ms, sys: 0 ns, total: 32.4 ms\n",
      "Wall time: 32.2 ms\n"
     ]
    }
   ],
   "source": [
    "%time rec_dfs = get_rec_dfs(all_rec_dfs, tst_ptid)"
   ]
  },
  {
   "cell_type": "markdown",
   "metadata": {},
   "source": [
    "rec_dfs -- observations, allergies, careplans, medications, imaging_studies, procedures, conditions, immunizations\n",
    "\n",
    "The following are empty for this ptid\n",
    "- allergies - 1\n",
    "- ~~imaging_studies - 4~~"
   ]
  },
  {
   "cell_type": "code",
   "execution_count": null,
   "metadata": {},
   "outputs": [],
   "source": [
    "# for rec_df, name in zip(rec_dfs, FILENAMES[1:]):\n",
    "#     print(f'{name}: {rec_df.shape}')\n",
    "#     display(rec_df.tail())"
   ]
  },
  {
   "cell_type": "code",
   "execution_count": null,
   "metadata": {},
   "outputs": [],
   "source": [
    "p_obs, p_alg, p_crpl, p_med, p_img, p_proc, p_cnd, p_immn = rec_dfs"
   ]
  },
  {
   "cell_type": "code",
   "execution_count": null,
   "metadata": {},
   "outputs": [],
   "source": [
    "demograph_vector = patient_demographics_df.loc[tst_ptid]"
   ]
  },
  {
   "cell_type": "code",
   "execution_count": null,
   "metadata": {},
   "outputs": [
    {
     "data": {
      "text/plain": [
       "birthdate          1934-11-27\n",
       "marital                     M\n",
       "race                    white\n",
       "ethnicity          portuguese\n",
       "gender                      F\n",
       "birthplace             Boston\n",
       "city               Foxborough\n",
       "state           Massachusetts\n",
       "zip                      2035\n",
       "age_now_days            30670\n",
       "Name: 0731de61-1a8b-4135-83c0-2ace696bcac8, dtype: object"
      ]
     },
     "execution_count": null,
     "metadata": {},
     "output_type": "execute_result"
    }
   ],
   "source": [
    "demograph_vector"
   ]
  },
  {
   "cell_type": "code",
   "execution_count": null,
   "metadata": {},
   "outputs": [
    {
     "data": {
      "text/plain": [
       "'Foxborough'"
      ]
     },
     "execution_count": null,
     "metadata": {},
     "output_type": "execute_result"
    }
   ],
   "source": [
    "demograph_vector[6]"
   ]
  },
  {
   "cell_type": "code",
   "execution_count": null,
   "metadata": {},
   "outputs": [
    {
     "data": {
      "text/plain": [
       "birthdate          1934-11-27\n",
       "marital                     M\n",
       "race                    white\n",
       "ethnicity          portuguese\n",
       "gender                      F\n",
       "birthplace             Boston\n",
       "city               Foxborough\n",
       "state           Massachusetts\n",
       "zip                      2035\n",
       "age_now_days            30670\n",
       "Name: 0731de61-1a8b-4135-83c0-2ace696bcac8, dtype: object"
      ]
     },
     "execution_count": null,
     "metadata": {},
     "output_type": "execute_result"
    }
   ],
   "source": [
    "demograph_vector.fillna('xxnone')"
   ]
  },
  {
   "cell_type": "markdown",
   "metadata": {},
   "source": [
    "#### Single Value Returned - Check"
   ]
  },
  {
   "cell_type": "code",
   "execution_count": null,
   "metadata": {},
   "outputs": [],
   "source": [
    "test_ptid2 = '7c2b8c3b-fa87-44e9-b868-01db98dad56c'"
   ]
  },
  {
   "cell_type": "code",
   "execution_count": null,
   "metadata": {},
   "outputs": [],
   "source": [
    "test_ptid2_dfs = get_rec_dfs(all_rec_dfs, test_ptid2)"
   ]
  },
  {
   "cell_type": "code",
   "execution_count": null,
   "metadata": {},
   "outputs": [
    {
     "name": "stdout",
     "output_type": "stream",
     "text": [
      "observations: (283, 3)\n"
     ]
    },
    {
     "data": {
      "text/html": [
       "<div>\n",
       "<style scoped>\n",
       "    .dataframe tbody tr th:only-of-type {\n",
       "        vertical-align: middle;\n",
       "    }\n",
       "\n",
       "    .dataframe tbody tr th {\n",
       "        vertical-align: top;\n",
       "    }\n",
       "\n",
       "    .dataframe thead th {\n",
       "        text-align: right;\n",
       "    }\n",
       "</style>\n",
       "<table border=\"1\" class=\"dataframe\">\n",
       "  <thead>\n",
       "    <tr style=\"text-align: right;\">\n",
       "      <th></th>\n",
       "      <th>code</th>\n",
       "      <th>age</th>\n",
       "      <th>age_months</th>\n",
       "    </tr>\n",
       "    <tr>\n",
       "      <th>patient</th>\n",
       "      <th></th>\n",
       "      <th></th>\n",
       "      <th></th>\n",
       "    </tr>\n",
       "  </thead>\n",
       "  <tbody>\n",
       "    <tr>\n",
       "      <th>7c2b8c3b-fa87-44e9-b868-01db98dad56c</th>\n",
       "      <td>21000-5||41.5||fL||numeric</td>\n",
       "      <td>28</td>\n",
       "      <td>340</td>\n",
       "    </tr>\n",
       "    <tr>\n",
       "      <th>7c2b8c3b-fa87-44e9-b868-01db98dad56c</th>\n",
       "      <td>777-3||335.9||10*3/uL||numeric</td>\n",
       "      <td>28</td>\n",
       "      <td>340</td>\n",
       "    </tr>\n",
       "    <tr>\n",
       "      <th>7c2b8c3b-fa87-44e9-b868-01db98dad56c</th>\n",
       "      <td>32207-3||488.3||fL||numeric</td>\n",
       "      <td>28</td>\n",
       "      <td>340</td>\n",
       "    </tr>\n",
       "    <tr>\n",
       "      <th>7c2b8c3b-fa87-44e9-b868-01db98dad56c</th>\n",
       "      <td>32623-1||11.7||fL||numeric</td>\n",
       "      <td>28</td>\n",
       "      <td>340</td>\n",
       "    </tr>\n",
       "    <tr>\n",
       "      <th>7c2b8c3b-fa87-44e9-b868-01db98dad56c</th>\n",
       "      <td>72166-2||Never smoker||xxxnan||text</td>\n",
       "      <td>28</td>\n",
       "      <td>340</td>\n",
       "    </tr>\n",
       "  </tbody>\n",
       "</table>\n",
       "</div>"
      ],
      "text/plain": [
       "                                                                     code  \\\n",
       "patient                                                                     \n",
       "7c2b8c3b-fa87-44e9-b868-01db98dad56c           21000-5||41.5||fL||numeric   \n",
       "7c2b8c3b-fa87-44e9-b868-01db98dad56c       777-3||335.9||10*3/uL||numeric   \n",
       "7c2b8c3b-fa87-44e9-b868-01db98dad56c          32207-3||488.3||fL||numeric   \n",
       "7c2b8c3b-fa87-44e9-b868-01db98dad56c           32623-1||11.7||fL||numeric   \n",
       "7c2b8c3b-fa87-44e9-b868-01db98dad56c  72166-2||Never smoker||xxxnan||text   \n",
       "\n",
       "                                      age  age_months  \n",
       "patient                                                \n",
       "7c2b8c3b-fa87-44e9-b868-01db98dad56c   28         340  \n",
       "7c2b8c3b-fa87-44e9-b868-01db98dad56c   28         340  \n",
       "7c2b8c3b-fa87-44e9-b868-01db98dad56c   28         340  \n",
       "7c2b8c3b-fa87-44e9-b868-01db98dad56c   28         340  \n",
       "7c2b8c3b-fa87-44e9-b868-01db98dad56c   28         340  "
      ]
     },
     "metadata": {},
     "output_type": "display_data"
    },
    {
     "name": "stdout",
     "output_type": "stream",
     "text": [
      "allergies: (0, 0)\n"
     ]
    },
    {
     "data": {
      "text/html": [
       "<div>\n",
       "<style scoped>\n",
       "    .dataframe tbody tr th:only-of-type {\n",
       "        vertical-align: middle;\n",
       "    }\n",
       "\n",
       "    .dataframe tbody tr th {\n",
       "        vertical-align: top;\n",
       "    }\n",
       "\n",
       "    .dataframe thead th {\n",
       "        text-align: right;\n",
       "    }\n",
       "</style>\n",
       "<table border=\"1\" class=\"dataframe\">\n",
       "  <thead>\n",
       "    <tr style=\"text-align: right;\">\n",
       "      <th></th>\n",
       "    </tr>\n",
       "  </thead>\n",
       "  <tbody>\n",
       "  </tbody>\n",
       "</table>\n",
       "</div>"
      ],
      "text/plain": [
       "Empty DataFrame\n",
       "Columns: []\n",
       "Index: []"
      ]
     },
     "metadata": {},
     "output_type": "display_data"
    },
    {
     "name": "stdout",
     "output_type": "stream",
     "text": [
      "careplans: (13, 3)\n"
     ]
    },
    {
     "data": {
      "text/html": [
       "<div>\n",
       "<style scoped>\n",
       "    .dataframe tbody tr th:only-of-type {\n",
       "        vertical-align: middle;\n",
       "    }\n",
       "\n",
       "    .dataframe tbody tr th {\n",
       "        vertical-align: top;\n",
       "    }\n",
       "\n",
       "    .dataframe thead th {\n",
       "        text-align: right;\n",
       "    }\n",
       "</style>\n",
       "<table border=\"1\" class=\"dataframe\">\n",
       "  <thead>\n",
       "    <tr style=\"text-align: right;\">\n",
       "      <th></th>\n",
       "      <th>code</th>\n",
       "      <th>age</th>\n",
       "      <th>age_months</th>\n",
       "    </tr>\n",
       "    <tr>\n",
       "      <th>patient</th>\n",
       "      <th></th>\n",
       "      <th></th>\n",
       "      <th></th>\n",
       "    </tr>\n",
       "  </thead>\n",
       "  <tbody>\n",
       "    <tr>\n",
       "      <th>7c2b8c3b-fa87-44e9-b868-01db98dad56c</th>\n",
       "      <td>53950000||STOP</td>\n",
       "      <td>8</td>\n",
       "      <td>98</td>\n",
       "    </tr>\n",
       "    <tr>\n",
       "      <th>7c2b8c3b-fa87-44e9-b868-01db98dad56c</th>\n",
       "      <td>91251008||STOP</td>\n",
       "      <td>11</td>\n",
       "      <td>141</td>\n",
       "    </tr>\n",
       "    <tr>\n",
       "      <th>7c2b8c3b-fa87-44e9-b868-01db98dad56c</th>\n",
       "      <td>91251008||STOP</td>\n",
       "      <td>14</td>\n",
       "      <td>173</td>\n",
       "    </tr>\n",
       "    <tr>\n",
       "      <th>7c2b8c3b-fa87-44e9-b868-01db98dad56c</th>\n",
       "      <td>53950000||STOP</td>\n",
       "      <td>19</td>\n",
       "      <td>232</td>\n",
       "    </tr>\n",
       "    <tr>\n",
       "      <th>7c2b8c3b-fa87-44e9-b868-01db98dad56c</th>\n",
       "      <td>91251008||STOP</td>\n",
       "      <td>25</td>\n",
       "      <td>306</td>\n",
       "    </tr>\n",
       "  </tbody>\n",
       "</table>\n",
       "</div>"
      ],
      "text/plain": [
       "                                                code  age  age_months\n",
       "patient                                                              \n",
       "7c2b8c3b-fa87-44e9-b868-01db98dad56c  53950000||STOP    8          98\n",
       "7c2b8c3b-fa87-44e9-b868-01db98dad56c  91251008||STOP   11         141\n",
       "7c2b8c3b-fa87-44e9-b868-01db98dad56c  91251008||STOP   14         173\n",
       "7c2b8c3b-fa87-44e9-b868-01db98dad56c  53950000||STOP   19         232\n",
       "7c2b8c3b-fa87-44e9-b868-01db98dad56c  91251008||STOP   25         306"
      ]
     },
     "metadata": {},
     "output_type": "display_data"
    },
    {
     "name": "stdout",
     "output_type": "stream",
     "text": [
      "medications: (21, 3)\n"
     ]
    },
    {
     "data": {
      "text/html": [
       "<div>\n",
       "<style scoped>\n",
       "    .dataframe tbody tr th:only-of-type {\n",
       "        vertical-align: middle;\n",
       "    }\n",
       "\n",
       "    .dataframe tbody tr th {\n",
       "        vertical-align: top;\n",
       "    }\n",
       "\n",
       "    .dataframe thead th {\n",
       "        text-align: right;\n",
       "    }\n",
       "</style>\n",
       "<table border=\"1\" class=\"dataframe\">\n",
       "  <thead>\n",
       "    <tr style=\"text-align: right;\">\n",
       "      <th></th>\n",
       "      <th>code</th>\n",
       "      <th>age</th>\n",
       "      <th>age_months</th>\n",
       "    </tr>\n",
       "    <tr>\n",
       "      <th>patient</th>\n",
       "      <th></th>\n",
       "      <th></th>\n",
       "      <th></th>\n",
       "    </tr>\n",
       "  </thead>\n",
       "  <tbody>\n",
       "    <tr>\n",
       "      <th>7c2b8c3b-fa87-44e9-b868-01db98dad56c</th>\n",
       "      <td>198405||STOP</td>\n",
       "      <td>11</td>\n",
       "      <td>141</td>\n",
       "    </tr>\n",
       "    <tr>\n",
       "      <th>7c2b8c3b-fa87-44e9-b868-01db98dad56c</th>\n",
       "      <td>313782||STOP</td>\n",
       "      <td>14</td>\n",
       "      <td>173</td>\n",
       "    </tr>\n",
       "    <tr>\n",
       "      <th>7c2b8c3b-fa87-44e9-b868-01db98dad56c</th>\n",
       "      <td>1043400||STOP</td>\n",
       "      <td>19</td>\n",
       "      <td>230</td>\n",
       "    </tr>\n",
       "    <tr>\n",
       "      <th>7c2b8c3b-fa87-44e9-b868-01db98dad56c</th>\n",
       "      <td>849574||STOP</td>\n",
       "      <td>25</td>\n",
       "      <td>306</td>\n",
       "    </tr>\n",
       "    <tr>\n",
       "      <th>7c2b8c3b-fa87-44e9-b868-01db98dad56c</th>\n",
       "      <td>861467||STOP</td>\n",
       "      <td>25</td>\n",
       "      <td>306</td>\n",
       "    </tr>\n",
       "  </tbody>\n",
       "</table>\n",
       "</div>"
      ],
      "text/plain": [
       "                                               code  age  age_months\n",
       "patient                                                             \n",
       "7c2b8c3b-fa87-44e9-b868-01db98dad56c   198405||STOP   11         141\n",
       "7c2b8c3b-fa87-44e9-b868-01db98dad56c   313782||STOP   14         173\n",
       "7c2b8c3b-fa87-44e9-b868-01db98dad56c  1043400||STOP   19         230\n",
       "7c2b8c3b-fa87-44e9-b868-01db98dad56c   849574||STOP   25         306\n",
       "7c2b8c3b-fa87-44e9-b868-01db98dad56c   861467||STOP   25         306"
      ]
     },
     "metadata": {},
     "output_type": "display_data"
    },
    {
     "name": "stdout",
     "output_type": "stream",
     "text": [
      "imaging_studies: (1, 3)\n"
     ]
    },
    {
     "data": {
      "text/html": [
       "<div>\n",
       "<style scoped>\n",
       "    .dataframe tbody tr th:only-of-type {\n",
       "        vertical-align: middle;\n",
       "    }\n",
       "\n",
       "    .dataframe tbody tr th {\n",
       "        vertical-align: top;\n",
       "    }\n",
       "\n",
       "    .dataframe thead th {\n",
       "        text-align: right;\n",
       "    }\n",
       "</style>\n",
       "<table border=\"1\" class=\"dataframe\">\n",
       "  <thead>\n",
       "    <tr style=\"text-align: right;\">\n",
       "      <th></th>\n",
       "      <th>code</th>\n",
       "      <th>age</th>\n",
       "      <th>age_months</th>\n",
       "    </tr>\n",
       "    <tr>\n",
       "      <th>patient</th>\n",
       "      <th></th>\n",
       "      <th></th>\n",
       "      <th></th>\n",
       "    </tr>\n",
       "  </thead>\n",
       "  <tbody>\n",
       "    <tr>\n",
       "      <th>7c2b8c3b-fa87-44e9-b868-01db98dad56c</th>\n",
       "      <td>72696002</td>\n",
       "      <td>25</td>\n",
       "      <td>305</td>\n",
       "    </tr>\n",
       "  </tbody>\n",
       "</table>\n",
       "</div>"
      ],
      "text/plain": [
       "                                          code  age  age_months\n",
       "patient                                                        \n",
       "7c2b8c3b-fa87-44e9-b868-01db98dad56c  72696002   25         305"
      ]
     },
     "metadata": {},
     "output_type": "display_data"
    },
    {
     "name": "stdout",
     "output_type": "stream",
     "text": [
      "procedures: (17, 3)\n"
     ]
    },
    {
     "data": {
      "text/html": [
       "<div>\n",
       "<style scoped>\n",
       "    .dataframe tbody tr th:only-of-type {\n",
       "        vertical-align: middle;\n",
       "    }\n",
       "\n",
       "    .dataframe tbody tr th {\n",
       "        vertical-align: top;\n",
       "    }\n",
       "\n",
       "    .dataframe thead th {\n",
       "        text-align: right;\n",
       "    }\n",
       "</style>\n",
       "<table border=\"1\" class=\"dataframe\">\n",
       "  <thead>\n",
       "    <tr style=\"text-align: right;\">\n",
       "      <th></th>\n",
       "      <th>code</th>\n",
       "      <th>age</th>\n",
       "      <th>age_months</th>\n",
       "    </tr>\n",
       "    <tr>\n",
       "      <th>patient</th>\n",
       "      <th></th>\n",
       "      <th></th>\n",
       "      <th></th>\n",
       "    </tr>\n",
       "  </thead>\n",
       "  <tbody>\n",
       "    <tr>\n",
       "      <th>7c2b8c3b-fa87-44e9-b868-01db98dad56c</th>\n",
       "      <td>428191000124101</td>\n",
       "      <td>13</td>\n",
       "      <td>159</td>\n",
       "    </tr>\n",
       "    <tr>\n",
       "      <th>7c2b8c3b-fa87-44e9-b868-01db98dad56c</th>\n",
       "      <td>428191000124101</td>\n",
       "      <td>14</td>\n",
       "      <td>171</td>\n",
       "    </tr>\n",
       "    <tr>\n",
       "      <th>7c2b8c3b-fa87-44e9-b868-01db98dad56c</th>\n",
       "      <td>428191000124101</td>\n",
       "      <td>22</td>\n",
       "      <td>268</td>\n",
       "    </tr>\n",
       "    <tr>\n",
       "      <th>7c2b8c3b-fa87-44e9-b868-01db98dad56c</th>\n",
       "      <td>74016001</td>\n",
       "      <td>25</td>\n",
       "      <td>305</td>\n",
       "    </tr>\n",
       "    <tr>\n",
       "      <th>7c2b8c3b-fa87-44e9-b868-01db98dad56c</th>\n",
       "      <td>699253003</td>\n",
       "      <td>25</td>\n",
       "      <td>305</td>\n",
       "    </tr>\n",
       "  </tbody>\n",
       "</table>\n",
       "</div>"
      ],
      "text/plain": [
       "                                                 code  age  age_months\n",
       "patient                                                               \n",
       "7c2b8c3b-fa87-44e9-b868-01db98dad56c  428191000124101   13         159\n",
       "7c2b8c3b-fa87-44e9-b868-01db98dad56c  428191000124101   14         171\n",
       "7c2b8c3b-fa87-44e9-b868-01db98dad56c  428191000124101   22         268\n",
       "7c2b8c3b-fa87-44e9-b868-01db98dad56c         74016001   25         305\n",
       "7c2b8c3b-fa87-44e9-b868-01db98dad56c        699253003   25         305"
      ]
     },
     "metadata": {},
     "output_type": "display_data"
    },
    {
     "name": "stdout",
     "output_type": "stream",
     "text": [
      "conditions: (34, 3)\n"
     ]
    },
    {
     "data": {
      "text/html": [
       "<div>\n",
       "<style scoped>\n",
       "    .dataframe tbody tr th:only-of-type {\n",
       "        vertical-align: middle;\n",
       "    }\n",
       "\n",
       "    .dataframe tbody tr th {\n",
       "        vertical-align: top;\n",
       "    }\n",
       "\n",
       "    .dataframe thead th {\n",
       "        text-align: right;\n",
       "    }\n",
       "</style>\n",
       "<table border=\"1\" class=\"dataframe\">\n",
       "  <thead>\n",
       "    <tr style=\"text-align: right;\">\n",
       "      <th></th>\n",
       "      <th>code</th>\n",
       "      <th>age</th>\n",
       "      <th>age_months</th>\n",
       "    </tr>\n",
       "    <tr>\n",
       "      <th>patient</th>\n",
       "      <th></th>\n",
       "      <th></th>\n",
       "      <th></th>\n",
       "    </tr>\n",
       "  </thead>\n",
       "  <tbody>\n",
       "    <tr>\n",
       "      <th>7c2b8c3b-fa87-44e9-b868-01db98dad56c</th>\n",
       "      <td>10509002||STOP</td>\n",
       "      <td>19</td>\n",
       "      <td>230</td>\n",
       "    </tr>\n",
       "    <tr>\n",
       "      <th>7c2b8c3b-fa87-44e9-b868-01db98dad56c</th>\n",
       "      <td>195662009||STOP</td>\n",
       "      <td>19</td>\n",
       "      <td>235</td>\n",
       "    </tr>\n",
       "    <tr>\n",
       "      <th>7c2b8c3b-fa87-44e9-b868-01db98dad56c</th>\n",
       "      <td>444814009||STOP</td>\n",
       "      <td>21</td>\n",
       "      <td>254</td>\n",
       "    </tr>\n",
       "    <tr>\n",
       "      <th>7c2b8c3b-fa87-44e9-b868-01db98dad56c</th>\n",
       "      <td>444814009||STOP</td>\n",
       "      <td>22</td>\n",
       "      <td>266</td>\n",
       "    </tr>\n",
       "    <tr>\n",
       "      <th>7c2b8c3b-fa87-44e9-b868-01db98dad56c</th>\n",
       "      <td>444448004||STOP</td>\n",
       "      <td>25</td>\n",
       "      <td>306</td>\n",
       "    </tr>\n",
       "  </tbody>\n",
       "</table>\n",
       "</div>"
      ],
      "text/plain": [
       "                                                 code  age  age_months\n",
       "patient                                                               \n",
       "7c2b8c3b-fa87-44e9-b868-01db98dad56c   10509002||STOP   19         230\n",
       "7c2b8c3b-fa87-44e9-b868-01db98dad56c  195662009||STOP   19         235\n",
       "7c2b8c3b-fa87-44e9-b868-01db98dad56c  444814009||STOP   21         254\n",
       "7c2b8c3b-fa87-44e9-b868-01db98dad56c  444814009||STOP   22         266\n",
       "7c2b8c3b-fa87-44e9-b868-01db98dad56c  444448004||STOP   25         306"
      ]
     },
     "metadata": {},
     "output_type": "display_data"
    },
    {
     "name": "stdout",
     "output_type": "stream",
     "text": [
      "immunizations: (40, 3)\n"
     ]
    },
    {
     "data": {
      "text/html": [
       "<div>\n",
       "<style scoped>\n",
       "    .dataframe tbody tr th:only-of-type {\n",
       "        vertical-align: middle;\n",
       "    }\n",
       "\n",
       "    .dataframe tbody tr th {\n",
       "        vertical-align: top;\n",
       "    }\n",
       "\n",
       "    .dataframe thead th {\n",
       "        text-align: right;\n",
       "    }\n",
       "</style>\n",
       "<table border=\"1\" class=\"dataframe\">\n",
       "  <thead>\n",
       "    <tr style=\"text-align: right;\">\n",
       "      <th></th>\n",
       "      <th>code</th>\n",
       "      <th>age</th>\n",
       "      <th>age_months</th>\n",
       "    </tr>\n",
       "    <tr>\n",
       "      <th>patient</th>\n",
       "      <th></th>\n",
       "      <th></th>\n",
       "      <th></th>\n",
       "    </tr>\n",
       "  </thead>\n",
       "  <tbody>\n",
       "    <tr>\n",
       "      <th>7c2b8c3b-fa87-44e9-b868-01db98dad56c</th>\n",
       "      <td>113</td>\n",
       "      <td>22</td>\n",
       "      <td>268</td>\n",
       "    </tr>\n",
       "    <tr>\n",
       "      <th>7c2b8c3b-fa87-44e9-b868-01db98dad56c</th>\n",
       "      <td>43</td>\n",
       "      <td>22</td>\n",
       "      <td>268</td>\n",
       "    </tr>\n",
       "    <tr>\n",
       "      <th>7c2b8c3b-fa87-44e9-b868-01db98dad56c</th>\n",
       "      <td>114</td>\n",
       "      <td>22</td>\n",
       "      <td>268</td>\n",
       "    </tr>\n",
       "    <tr>\n",
       "      <th>7c2b8c3b-fa87-44e9-b868-01db98dad56c</th>\n",
       "      <td>140</td>\n",
       "      <td>25</td>\n",
       "      <td>304</td>\n",
       "    </tr>\n",
       "    <tr>\n",
       "      <th>7c2b8c3b-fa87-44e9-b868-01db98dad56c</th>\n",
       "      <td>140</td>\n",
       "      <td>28</td>\n",
       "      <td>340</td>\n",
       "    </tr>\n",
       "  </tbody>\n",
       "</table>\n",
       "</div>"
      ],
      "text/plain": [
       "                                      code  age  age_months\n",
       "patient                                                    \n",
       "7c2b8c3b-fa87-44e9-b868-01db98dad56c   113   22         268\n",
       "7c2b8c3b-fa87-44e9-b868-01db98dad56c    43   22         268\n",
       "7c2b8c3b-fa87-44e9-b868-01db98dad56c   114   22         268\n",
       "7c2b8c3b-fa87-44e9-b868-01db98dad56c   140   25         304\n",
       "7c2b8c3b-fa87-44e9-b868-01db98dad56c   140   28         340"
      ]
     },
     "metadata": {},
     "output_type": "display_data"
    }
   ],
   "source": [
    "for rec_df, name in zip(test_ptid2_dfs, FILENAMES[1:]):\n",
    "    print(f'{name}: {rec_df.shape}')\n",
    "    display(rec_df.tail())"
   ]
  },
  {
   "cell_type": "markdown",
   "metadata": {},
   "source": [
    "### `collate_codes_offsts()`"
   ]
  },
  {
   "cell_type": "markdown",
   "metadata": {},
   "source": [
    "- For empty Code DFs like alg seen above - codes list will be 20 xxnones\n",
    "- For non-empty Code DFs\n",
    " 1. Collate codes by year\n",
    " 2. Compute respective offsets"
   ]
  },
  {
   "cell_type": "code",
   "execution_count": null,
   "metadata": {},
   "outputs": [],
   "source": [
    "#export\n",
    "def collate_codes_offsts(rec_df, age_start, age_stop, age_in_months=False):\n",
    "    \"\"\"Return a single patient's EmbeddingBag lookup codes and offsets for the given age span and age units\"\"\"\n",
    "    codes  = []\n",
    "    offsts = [0]\n",
    "    if rec_df.empty: \n",
    "        age_span = age_stop - age_start\n",
    "        codes = ['xxnone'] * age_span\n",
    "        offsts = list(range(age_span))\n",
    "    else:\n",
    "        for i in range(age_start, age_stop, 1):\n",
    "            if age_in_months: res = (rec_df.code[rec_df.age_months == i]).values\n",
    "            else            : res = (rec_df.code[rec_df.age == i]).values\n",
    "            if len(res) > 0: \n",
    "                codes.extend(res)      \n",
    "                if i < age_stop - 1: offsts.append(offsts[-1] + len(res))\n",
    "            else:          \n",
    "                codes.append('xxnone') \n",
    "                if i < age_stop - 1: offsts.append(offsts[-1] + 1)\n",
    "    return codes, offsts"
   ]
  },
  {
   "cell_type": "markdown",
   "metadata": {},
   "source": [
    "#### Old - delete"
   ]
  },
  {
   "cell_type": "markdown",
   "metadata": {},
   "source": [
    "```python\n",
    "#export\n",
    "def collate_codes_offsts(rec_df, cutoff_age):\n",
    "    codes  = []\n",
    "    offsts = [0]\n",
    "    if rec_df.empty: \n",
    "        codes = ['xxnone'] * cutoff_age\n",
    "        offsts = list(range(cutoff_age))\n",
    "    else:\n",
    "        for i in range(cutoff_age):\n",
    "            res = (rec_df.code[rec_df.age==i]).values\n",
    "            if len(res)>0: \n",
    "                codes.extend(res)      # old --> for j in range(len(res)): codes.append(res[j])\n",
    "                if i < cutoff_age - 1: offsts.append(offsts[-1]+len(res))\n",
    "            else:          \n",
    "                codes.append('xxnone') \n",
    "                if i < cutoff_age - 1: offsts.append(offsts[-1]+1)\n",
    "    return codes, offsts\n",
    "```"
   ]
  },
  {
   "cell_type": "markdown",
   "metadata": {},
   "source": [
    "#### Tests"
   ]
  },
  {
   "cell_type": "code",
   "execution_count": null,
   "metadata": {},
   "outputs": [
    {
     "name": "stdout",
     "output_type": "stream",
     "text": [
      "CPU times: user 28.6 ms, sys: 3.4 ms, total: 32 ms\n",
      "Wall time: 30.5 ms\n"
     ]
    }
   ],
   "source": [
    "%time all_codes_offsts = [collate_codes_offsts(df, age_start=0, age_stop=20) for df in rec_dfs]"
   ]
  },
  {
   "cell_type": "code",
   "execution_count": null,
   "metadata": {},
   "outputs": [
    {
     "name": "stdout",
     "output_type": "stream",
     "text": [
      "CPU times: user 28.4 ms, sys: 0 ns, total: 28.4 ms\n",
      "Wall time: 27.7 ms\n"
     ]
    }
   ],
   "source": [
    "%time all_codes_offsts_1 = [collate_codes_offsts(df, age_start=0, age_stop=20) for df in [p_obs, p_alg, p_crpl, p_med, p_img, p_proc, p_cnd, p_immn]]"
   ]
  },
  {
   "cell_type": "code",
   "execution_count": null,
   "metadata": {},
   "outputs": [],
   "source": [
    "assert all_codes_offsts == all_codes_offsts_1"
   ]
  },
  {
   "cell_type": "code",
   "execution_count": null,
   "metadata": {},
   "outputs": [
    {
     "data": {
      "text/plain": [
       "(236, 236, 2044)"
      ]
     },
     "execution_count": null,
     "metadata": {},
     "output_type": "execute_result"
    }
   ],
   "source": [
    "len(all_codes_offsts[0][0]), len(all_codes_offsts_1[0][0]), len(p_obs)"
   ]
  },
  {
   "cell_type": "code",
   "execution_count": null,
   "metadata": {},
   "outputs": [
    {
     "name": "stdout",
     "output_type": "stream",
     "text": [
      "CPU times: user 13.9 ms, sys: 261 µs, total: 14.2 ms\n",
      "Wall time: 13.9 ms\n"
     ]
    }
   ],
   "source": [
    "%time all_codes_offsts = [collate_codes_offsts(df, age_start=95, age_stop=105, age_in_months=True) for df in rec_dfs]"
   ]
  },
  {
   "cell_type": "code",
   "execution_count": null,
   "metadata": {},
   "outputs": [
    {
     "data": {
      "text/plain": [
       "(['8302-2||136.6||cm||numeric',\n",
       "  '72514-3||0.6||{score}||numeric',\n",
       "  '29463-7||23.3||kg||numeric',\n",
       "  '39156-5||12.5||kg/m2||numeric',\n",
       "  '8462-4||82.4||mmHg||numeric',\n",
       "  '8480-6||138.1||mmHg||numeric',\n",
       "  '72166-2||Never smoker||xxxnan||text',\n",
       "  'xxnone',\n",
       "  'xxnone',\n",
       "  'xxnone',\n",
       "  '8302-2||138.6||cm||numeric',\n",
       "  '72514-3||3.1||{score}||numeric',\n",
       "  '29463-7||24.2||kg||numeric',\n",
       "  '39156-5||12.6||kg/m2||numeric',\n",
       "  '8462-4||70.2||mmHg||numeric',\n",
       "  '8480-6||131.5||mmHg||numeric',\n",
       "  '72166-2||Never smoker||xxxnan||text',\n",
       "  'xxnone',\n",
       "  'xxnone',\n",
       "  'xxnone',\n",
       "  'xxnone',\n",
       "  'xxnone'],\n",
       " [0, 7, 8, 9, 10, 17, 18, 19, 20, 21])"
      ]
     },
     "execution_count": null,
     "metadata": {},
     "output_type": "execute_result"
    }
   ],
   "source": [
    "all_codes_offsts[0][0], all_codes_offsts[0][1]"
   ]
  },
  {
   "cell_type": "markdown",
   "metadata": {},
   "source": [
    "### Numericalize codes\n",
    "- Call to `vocab.numericalize()` must always be a list\n",
    "- Guaranteed given - `codes` returned from `collate_codes_offsts()` is always a list even if a single item"
   ]
  },
  {
   "cell_type": "markdown",
   "metadata": {},
   "source": [
    "**Do all** -- Given patient id"
   ]
  },
  {
   "cell_type": "markdown",
   "metadata": {},
   "source": [
    "#### Experiments"
   ]
  },
  {
   "cell_type": "code",
   "execution_count": null,
   "metadata": {},
   "outputs": [
    {
     "data": {
      "text/plain": [
       "'./datasets/synthea/1K'"
      ]
     },
     "execution_count": null,
     "metadata": {},
     "output_type": "execute_result"
    }
   ],
   "source": [
    "PATH_1K"
   ]
  },
  {
   "cell_type": "code",
   "execution_count": null,
   "metadata": {},
   "outputs": [],
   "source": [
    "# p_obs.to_csv(f'{PATH_1K}/p_obs.csv')"
   ]
  },
  {
   "cell_type": "code",
   "execution_count": null,
   "metadata": {},
   "outputs": [],
   "source": [
    "p_obs_collated = pd.DataFrame(all_codes_offsts[0][0])"
   ]
  },
  {
   "cell_type": "code",
   "execution_count": null,
   "metadata": {},
   "outputs": [],
   "source": [
    "# p_obs_collated.to_csv(f'{PATH_1K}/p_obs_collated.csv')"
   ]
  },
  {
   "cell_type": "code",
   "execution_count": null,
   "metadata": {},
   "outputs": [],
   "source": [
    "oc,oo = obs_vocab.numericalize(all_codes_offsts[0][0]), all_codes_offsts[0][1]"
   ]
  },
  {
   "cell_type": "code",
   "execution_count": null,
   "metadata": {},
   "outputs": [],
   "source": [
    "p_obs_numericalized = pd.DataFrame(oc)"
   ]
  },
  {
   "cell_type": "code",
   "execution_count": null,
   "metadata": {},
   "outputs": [],
   "source": [
    "# p_obs_numericalized.to_csv(f'{PATH_1K}/p_obs_numericalized.csv')"
   ]
  },
  {
   "cell_type": "code",
   "execution_count": null,
   "metadata": {},
   "outputs": [],
   "source": [
    "# obs_vocab.vocab_df.to_csv(f'{PATH_1K}/obs_vocab_df.csv')"
   ]
  },
  {
   "cell_type": "code",
   "execution_count": null,
   "metadata": {},
   "outputs": [
    {
     "data": {
      "text/plain": [
       "(2044, 236, 236)"
      ]
     },
     "execution_count": null,
     "metadata": {},
     "output_type": "execute_result"
    }
   ],
   "source": [
    "len(p_obs), len(p_obs_collated), len(oc)"
   ]
  },
  {
   "cell_type": "code",
   "execution_count": null,
   "metadata": {},
   "outputs": [],
   "source": [
    "oc_1,oo_1 = obs_vocab.numericalize(all_codes_offsts_1[0][0]), all_codes_offsts_1[0][1]"
   ]
  },
  {
   "cell_type": "code",
   "execution_count": null,
   "metadata": {},
   "outputs": [
    {
     "data": {
      "text/plain": [
       "(236, 236, 20, 20)"
      ]
     },
     "execution_count": null,
     "metadata": {},
     "output_type": "execute_result"
    }
   ],
   "source": [
    "len(oc), len(oc_1), len(oo), len(oo_1)"
   ]
  },
  {
   "cell_type": "code",
   "execution_count": null,
   "metadata": {},
   "outputs": [],
   "source": [
    "# obs_vocab.textify(oc)\n",
    "# oc"
   ]
  },
  {
   "cell_type": "code",
   "execution_count": null,
   "metadata": {},
   "outputs": [
    {
     "data": {
      "text/plain": [
       "(236, 20)"
      ]
     },
     "execution_count": null,
     "metadata": {},
     "output_type": "execute_result"
    }
   ],
   "source": [
    "len(oc),len(oo)"
   ]
  },
  {
   "cell_type": "code",
   "execution_count": null,
   "metadata": {},
   "outputs": [],
   "source": [
    "pc,po = proc_vocab.numericalize(all_codes_offsts[5][0]), all_codes_offsts[5][1]"
   ]
  },
  {
   "cell_type": "code",
   "execution_count": null,
   "metadata": {},
   "outputs": [],
   "source": [
    "# pc"
   ]
  },
  {
   "cell_type": "code",
   "execution_count": null,
   "metadata": {},
   "outputs": [
    {
     "data": {
      "text/plain": [
       "(23, 20)"
      ]
     },
     "execution_count": null,
     "metadata": {},
     "output_type": "execute_result"
    }
   ],
   "source": [
    "len(pc),len(po)"
   ]
  },
  {
   "cell_type": "markdown",
   "metadata": {},
   "source": [
    "#### `get_codenums_offsts()`"
   ]
  },
  {
   "cell_type": "code",
   "execution_count": null,
   "metadata": {},
   "outputs": [],
   "source": [
    "#export\n",
    "def get_codenums_offsts(rec_dfs, all_vocabs, age_start, age_stop, age_in_months):\n",
    "\n",
    "    all_codes_offsts = [collate_codes_offsts(df, age_start, age_stop, age_in_months) for df in rec_dfs]\n",
    "    obs_vocab, alg_vocab, crpl_vocab, med_vocab, img_vocab, proc_vocab, cnd_vocab, imm_vocab = all_vocabs\n",
    "    \n",
    "    obs_c,  obs_o  = obs_vocab.numericalize (all_codes_offsts[0][0]), all_codes_offsts[0][1]\n",
    "    alg_c,  alg_o  = alg_vocab.numericalize (all_codes_offsts[1][0]), all_codes_offsts[1][1]\n",
    "    crpl_c, crpl_o = crpl_vocab.numericalize(all_codes_offsts[2][0]), all_codes_offsts[2][1]\n",
    "    med_c,  med_o  = med_vocab.numericalize (all_codes_offsts[3][0]), all_codes_offsts[3][1]\n",
    "    img_c,  img_o  = img_vocab.numericalize (all_codes_offsts[4][0]), all_codes_offsts[4][1]\n",
    "    proc_c, proc_o = proc_vocab.numericalize(all_codes_offsts[5][0]), all_codes_offsts[5][1]\n",
    "    cnd_c,  cnd_o  = cnd_vocab.numericalize (all_codes_offsts[6][0]), all_codes_offsts[6][1]\n",
    "    imm_c,  imm_o  = imm_vocab.numericalize (all_codes_offsts[7][0]), all_codes_offsts[7][1]\n",
    "    \n",
    "    all_codenums = [obs_c,alg_c,crpl_c,med_c,img_c,proc_c,cnd_c,imm_c]\n",
    "    all_offsts   = [obs_o,alg_o,crpl_o,med_o,img_o,proc_o,cnd_o,imm_o]\n",
    "    \n",
    "    return all_codenums, all_offsts"
   ]
  },
  {
   "cell_type": "markdown",
   "metadata": {},
   "source": [
    "### `get_demographics()`"
   ]
  },
  {
   "cell_type": "code",
   "execution_count": null,
   "metadata": {},
   "outputs": [],
   "source": [
    "#export\n",
    "def get_demographics(demograph_vector, demographics_vocabs, age_mean, age_std):\n",
    "\n",
    "    bday, bmonth, byear, marital, race, ethnicity, gender, birthplace, city, state, zipcode = demographics_vocabs\n",
    "    demograph_vector = demograph_vector.fillna('xxnone')\n",
    "    demographics = []\n",
    "    \n",
    "    birthdate = pd.Timestamp(demograph_vector[0])\n",
    "    \n",
    "    demographics.extend(bday.numericalize      ([birthdate.day]))\n",
    "    demographics.extend(bmonth.numericalize    ([birthdate.month]))\n",
    "    demographics.extend(byear.numericalize     ([birthdate.year]))\n",
    "    demographics.extend(marital.numericalize   ([demograph_vector[1]]))\n",
    "    demographics.extend(race.numericalize      ([demograph_vector[2]]))\n",
    "    demographics.extend(ethnicity.numericalize ([demograph_vector[3]]))\n",
    "    demographics.extend(gender.numericalize    ([demograph_vector[4]]))\n",
    "    demographics.extend(birthplace.numericalize([demograph_vector[5]]))\n",
    "    demographics.extend(city.numericalize      ([demograph_vector[6]]))\n",
    "    demographics.extend(state.numericalize     ([demograph_vector[7]]))\n",
    "    demographics.extend(zipcode.numericalize   ([demograph_vector[8]]))\n",
    "    age = (demograph_vector[9] - age_mean) / age_std\n",
    "    \n",
    "    return demographics, age"
   ]
  },
  {
   "cell_type": "markdown",
   "metadata": {},
   "source": [
    "### Tests"
   ]
  },
  {
   "cell_type": "markdown",
   "metadata": {},
   "source": [
    "#### Codes & Offsets"
   ]
  },
  {
   "cell_type": "code",
   "execution_count": null,
   "metadata": {},
   "outputs": [
    {
     "name": "stdout",
     "output_type": "stream",
     "text": [
      "CPU times: user 342 ms, sys: 0 ns, total: 342 ms\n",
      "Wall time: 341 ms\n"
     ]
    }
   ],
   "source": [
    "%time codenums, offsts = get_codenums_offsts(rec_dfs, vocab_list_1K.records_vocabs, age_start=0, age_stop=20, age_in_months=False)"
   ]
  },
  {
   "cell_type": "code",
   "execution_count": null,
   "metadata": {},
   "outputs": [],
   "source": [
    "med_c, med_o = codenums[3],offsts[3]"
   ]
  },
  {
   "cell_type": "code",
   "execution_count": null,
   "metadata": {},
   "outputs": [],
   "source": [
    "p_med_codes, p_med_offsts = collate_codes_offsts(p_med, age_start=0, age_stop=20)"
   ]
  },
  {
   "cell_type": "code",
   "execution_count": null,
   "metadata": {},
   "outputs": [],
   "source": [
    "assert len(med_c) == len(p_med_codes)\n",
    "assert med_o == p_med_offsts"
   ]
  },
  {
   "cell_type": "code",
   "execution_count": null,
   "metadata": {},
   "outputs": [
    {
     "data": {
      "text/plain": [
       "('562251||START', {'Amoxicillin 250 MG / Clavulanate 125 MG Oral Tablet'})"
      ]
     },
     "execution_count": null,
     "metadata": {},
     "output_type": "execute_result"
    }
   ],
   "source": [
    "med_vocab.textify(med_c)[2]"
   ]
  },
  {
   "cell_type": "code",
   "execution_count": null,
   "metadata": {},
   "outputs": [
    {
     "data": {
      "text/plain": [
       "['xxnone',\n",
       " 'xxnone',\n",
       " '562251||START',\n",
       " '562251||STOP',\n",
       " 'xxnone',\n",
       " 'xxnone',\n",
       " 'xxnone',\n",
       " 'xxnone',\n",
       " 'xxnone',\n",
       " '313782||START',\n",
       " '313782||STOP',\n",
       " 'xxnone',\n",
       " 'xxnone',\n",
       " 'xxnone',\n",
       " 'xxnone',\n",
       " 'xxnone',\n",
       " '313782||START',\n",
       " '313782||STOP',\n",
       " 'xxnone',\n",
       " '562251||START',\n",
       " '562251||STOP',\n",
       " 'xxnone',\n",
       " 'xxnone',\n",
       " 'xxnone']"
      ]
     },
     "execution_count": null,
     "metadata": {},
     "output_type": "execute_result"
    }
   ],
   "source": [
    "p_med_codes"
   ]
  },
  {
   "cell_type": "code",
   "execution_count": null,
   "metadata": {},
   "outputs": [
    {
     "data": {
      "text/plain": [
       "([0, 1, 2, 4, 5, 6, 7, 8, 9, 11, 12, 13, 14, 15, 16, 18, 19, 21, 22, 23],\n",
       " [0, 1, 2, 4, 5, 6, 7, 8, 9, 11, 12, 13, 14, 15, 16, 18, 19, 21, 22, 23])"
      ]
     },
     "execution_count": null,
     "metadata": {},
     "output_type": "execute_result"
    }
   ],
   "source": [
    "p_med_offsts, med_o"
   ]
  },
  {
   "cell_type": "code",
   "execution_count": null,
   "metadata": {},
   "outputs": [
    {
     "data": {
      "text/plain": [
       "(24, 20)"
      ]
     },
     "execution_count": null,
     "metadata": {},
     "output_type": "execute_result"
    }
   ],
   "source": [
    "len(p_med_codes),len(p_med_offsts)"
   ]
  },
  {
   "cell_type": "code",
   "execution_count": null,
   "metadata": {},
   "outputs": [],
   "source": [
    "p_alg_codes, p_alg_offsts = collate_codes_offsts(p_alg, age_start=0, age_stop=20)"
   ]
  },
  {
   "cell_type": "code",
   "execution_count": null,
   "metadata": {},
   "outputs": [
    {
     "data": {
      "text/plain": [
       "['xxnone',\n",
       " 'xxnone',\n",
       " 'xxnone',\n",
       " 'xxnone',\n",
       " 'xxnone',\n",
       " 'xxnone',\n",
       " 'xxnone',\n",
       " 'xxnone',\n",
       " 'xxnone',\n",
       " 'xxnone',\n",
       " 'xxnone',\n",
       " 'xxnone',\n",
       " 'xxnone',\n",
       " 'xxnone',\n",
       " 'xxnone',\n",
       " 'xxnone',\n",
       " 'xxnone',\n",
       " 'xxnone',\n",
       " 'xxnone',\n",
       " 'xxnone']"
      ]
     },
     "execution_count": null,
     "metadata": {},
     "output_type": "execute_result"
    }
   ],
   "source": [
    "p_alg_codes"
   ]
  },
  {
   "cell_type": "code",
   "execution_count": null,
   "metadata": {},
   "outputs": [
    {
     "data": {
      "text/plain": [
       "[0, 1, 2, 3, 4, 5, 6, 7, 8, 9, 10, 11, 12, 13, 14, 15, 16, 17, 18, 19]"
      ]
     },
     "execution_count": null,
     "metadata": {},
     "output_type": "execute_result"
    }
   ],
   "source": [
    "p_alg_offsts"
   ]
  },
  {
   "cell_type": "code",
   "execution_count": null,
   "metadata": {},
   "outputs": [],
   "source": [
    "obs_c, obs_o = codenums[0],offsts[0]"
   ]
  },
  {
   "cell_type": "code",
   "execution_count": null,
   "metadata": {},
   "outputs": [],
   "source": [
    "p_obs_codes, p_obs_offsts = collate_codes_offsts(p_obs, age_start=0, age_stop=20)"
   ]
  },
  {
   "cell_type": "code",
   "execution_count": null,
   "metadata": {},
   "outputs": [
    {
     "data": {
      "text/plain": [
       "(236, 20, 236, 20)"
      ]
     },
     "execution_count": null,
     "metadata": {},
     "output_type": "execute_result"
    }
   ],
   "source": [
    "len(p_obs_codes), len(p_obs_offsts), len(obs_c), len(obs_o)"
   ]
  },
  {
   "cell_type": "code",
   "execution_count": null,
   "metadata": {},
   "outputs": [],
   "source": [
    "assert obs_o == p_obs_offsts"
   ]
  },
  {
   "cell_type": "code",
   "execution_count": null,
   "metadata": {},
   "outputs": [
    {
     "name": "stdout",
     "output_type": "stream",
     "text": [
      "CPU times: user 524 ms, sys: 0 ns, total: 524 ms\n",
      "Wall time: 520 ms\n"
     ]
    }
   ],
   "source": [
    "%time codenums1, offsts1 = get_codenums_offsts(rec_dfs, vocab_list_1K.records_vocabs, age_start=20, age_stop=220, age_in_months=True)"
   ]
  },
  {
   "cell_type": "code",
   "execution_count": null,
   "metadata": {},
   "outputs": [
    {
     "name": "stdout",
     "output_type": "stream",
     "text": [
      "346\n",
      "200\n",
      "201\n",
      "202\n",
      "200\n",
      "200\n",
      "203\n",
      "200\n"
     ]
    }
   ],
   "source": [
    "for codenum, offst in zip(codenums1, offsts1):\n",
    "    print(len(codenum))\n",
    "    assert len(offst) == 200"
   ]
  },
  {
   "cell_type": "markdown",
   "metadata": {},
   "source": [
    "#### Numericalize + tensor"
   ]
  },
  {
   "cell_type": "code",
   "execution_count": null,
   "metadata": {},
   "outputs": [
    {
     "data": {
      "text/plain": [
       "[0,\n",
       " 0,\n",
       " 13,\n",
       " 141,\n",
       " 0,\n",
       " 0,\n",
       " 0,\n",
       " 0,\n",
       " 0,\n",
       " 4,\n",
       " 133,\n",
       " 0,\n",
       " 0,\n",
       " 0,\n",
       " 0,\n",
       " 0,\n",
       " 4,\n",
       " 133,\n",
       " 0,\n",
       " 13,\n",
       " 141,\n",
       " 0,\n",
       " 0,\n",
       " 0]"
      ]
     },
     "execution_count": null,
     "metadata": {},
     "output_type": "execute_result"
    }
   ],
   "source": [
    "p_med_indxs = med_vocab.numericalize(p_med_codes)\n",
    "p_med_indxs"
   ]
  },
  {
   "cell_type": "code",
   "execution_count": null,
   "metadata": {},
   "outputs": [
    {
     "data": {
      "text/plain": [
       "[0,\n",
       " 0,\n",
       " 13,\n",
       " 141,\n",
       " 0,\n",
       " 0,\n",
       " 0,\n",
       " 0,\n",
       " 0,\n",
       " 4,\n",
       " 133,\n",
       " 0,\n",
       " 0,\n",
       " 0,\n",
       " 0,\n",
       " 0,\n",
       " 4,\n",
       " 133,\n",
       " 0,\n",
       " 13,\n",
       " 141,\n",
       " 0,\n",
       " 0,\n",
       " 0]"
      ]
     },
     "execution_count": null,
     "metadata": {},
     "output_type": "execute_result"
    }
   ],
   "source": [
    "med_c"
   ]
  },
  {
   "cell_type": "code",
   "execution_count": null,
   "metadata": {},
   "outputs": [],
   "source": [
    "assert len(p_med_codes) == len(p_med_indxs)"
   ]
  },
  {
   "cell_type": "code",
   "execution_count": null,
   "metadata": {},
   "outputs": [],
   "source": [
    "assert p_med_indxs == med_c"
   ]
  },
  {
   "cell_type": "code",
   "execution_count": null,
   "metadata": {},
   "outputs": [
    {
     "data": {
      "text/plain": [
       "tensor([  0,   0,  13, 141,   0,   0,   0,   0,   0,   4, 133,   0,   0,   0,\n",
       "          0,   0,   4, 133,   0,  13, 141,   0,   0,   0])"
      ]
     },
     "execution_count": null,
     "metadata": {},
     "output_type": "execute_result"
    }
   ],
   "source": [
    "torch.tensor(p_med_indxs)"
   ]
  },
  {
   "cell_type": "markdown",
   "metadata": {},
   "source": [
    "#### Demographics"
   ]
  },
  {
   "cell_type": "code",
   "execution_count": null,
   "metadata": {},
   "outputs": [
    {
     "data": {
      "text/plain": [
       "birthdate          1934-11-27\n",
       "marital                     M\n",
       "race                    white\n",
       "ethnicity          portuguese\n",
       "gender                      F\n",
       "birthplace             Boston\n",
       "city               Foxborough\n",
       "state           Massachusetts\n",
       "zip                      2035\n",
       "age_now_days            30670\n",
       "Name: 0731de61-1a8b-4135-83c0-2ace696bcac8, dtype: object"
      ]
     },
     "execution_count": null,
     "metadata": {},
     "output_type": "execute_result"
    }
   ],
   "source": [
    "demograph_vector"
   ]
  },
  {
   "cell_type": "code",
   "execution_count": null,
   "metadata": {},
   "outputs": [
    {
     "data": {
      "text/plain": [
       "([28, 12, 36, 2, 2, 4, 3, 5, 4, 2, 4], 1.574773090930408)"
      ]
     },
     "execution_count": null,
     "metadata": {},
     "output_type": "execute_result"
    }
   ],
   "source": [
    "get_demographics(demograph_vector, vocab_list_1K.demographics_vocabs, vocab_list_1K.age_mean, vocab_list_1K.age_std)"
   ]
  },
  {
   "cell_type": "code",
   "execution_count": null,
   "metadata": {},
   "outputs": [],
   "source": [
    "dem_vector = ['1988-05-16','S',None,None,'F','North Adams','Marlborough','Massachusetts',1901,11141]"
   ]
  },
  {
   "cell_type": "code",
   "execution_count": null,
   "metadata": {},
   "outputs": [
    {
     "data": {
      "text/plain": [
       "0       1988-05-16\n",
       "1                S\n",
       "2             None\n",
       "3             None\n",
       "4                F\n",
       "5      North Adams\n",
       "6      Marlborough\n",
       "7    Massachusetts\n",
       "8             1901\n",
       "9            11141\n",
       "dtype: object"
      ]
     },
     "execution_count": null,
     "metadata": {},
     "output_type": "execute_result"
    }
   ],
   "source": [
    "dem_vector = pd.Series(dem_vector)\n",
    "dem_vector"
   ]
  },
  {
   "cell_type": "code",
   "execution_count": null,
   "metadata": {},
   "outputs": [
    {
     "data": {
      "text/plain": [
       "([17, 6, 90, 3, 0, 0, 3, 90, 8, 2, 48], -0.5053754917098182)"
      ]
     },
     "execution_count": null,
     "metadata": {},
     "output_type": "execute_result"
    }
   ],
   "source": [
    "get_demographics(dem_vector, vocab_list_1K.demographics_vocabs, vocab_list_1K.age_mean, vocab_list_1K.age_std)"
   ]
  },
  {
   "cell_type": "code",
   "execution_count": null,
   "metadata": {},
   "outputs": [
    {
     "data": {
      "text/plain": [
       "([20, 6, 112, 0, 2, 4, 3, 10, 9, 2, 9], -1.361550119558768)"
      ]
     },
     "execution_count": null,
     "metadata": {},
     "output_type": "execute_result"
    }
   ],
   "source": [
    "get_demographics(patient_demographics_df.loc['e8b8ebb1-a7b9-4ce8-8c6d-cfd74a284ebf'], vocab_list_1K.demographics_vocabs, \\\n",
    "                 vocab_list_1K.age_mean, vocab_list_1K.age_std) #has null"
   ]
  },
  {
   "cell_type": "code",
   "execution_count": null,
   "metadata": {},
   "outputs": [],
   "source": [
    "# vocab_list_1K.demographics_vocabs[10].ctoi"
   ]
  },
  {
   "cell_type": "markdown",
   "metadata": {},
   "source": [
    "# `ItemBase` - Patient"
   ]
  },
  {
   "cell_type": "markdown",
   "metadata": {},
   "source": [
    "**Questions / TODOs**\n",
    "1. ~~Delete y from here and only do in labelling~~\n",
    "2. ~~Delete patient id~~\n",
    "3. ~~Either implement `cuda()` or add `cuda()` call to each in `__init__()`~~\n",
    " - See below for details\n",
    " - Implemented separate method, to be called in `fit()`\n",
    " - <span class=\"burk\">Not sure if this is a good idea</span>\n",
    "4. **Implement a good `__repr__()`**\n",
    "5. Clean up more\n",
    " - Each of **obs, alg, etc could be positional** once everything is tested out and functional\n",
    " - Cleans up this class significantly"
   ]
  },
  {
   "cell_type": "markdown",
   "metadata": {},
   "source": [
    "### `.cuda()`, CUDA Semantics, Monkey-Patching Lists for CUDA"
   ]
  },
  {
   "cell_type": "markdown",
   "metadata": {},
   "source": [
    "**CUDA**\n",
    "- [`torch.Tensor.cuda()`](https://pytorch.org/docs/stable/tensors.html#torch.Tensor.cuda)\n",
    "- [`torch.nn.Module.cuda()`](https://pytorch.org/docs/stable/nn.html#torch.nn.Module.cuda)\n",
    "- [CUDA Semantics](https://pytorch.org/docs/stable/notes/cuda.html#cuda-semantics)\n",
    "\n",
    "*CUDA - summary*\n",
    "- the `.cuda()` call puts tensor or module (model) onto GPU \n",
    " - if not already there else returns existing copy from GPU\n",
    " \n",
    "**Not Monkey-Patching Python List**\n",
    "- Decided to drop the idea\n",
    "- Not straightforward for Python list object - if possible at all\n",
    "- No time to research that now\n",
    "- And most importantly - **future versions will use fastai L or something built on that**"
   ]
  },
  {
   "cell_type": "markdown",
   "metadata": {},
   "source": [
    "## Class `Patient`"
   ]
  },
  {
   "cell_type": "code",
   "execution_count": null,
   "metadata": {},
   "outputs": [],
   "source": [
    "#export\n",
    "class Patient():\n",
    "    def __init__(self, nums, offsts, demographics, age_now, birthdate, diabetes, stroke, alzheimers, coronaryheart, ptid):\n",
    "        self.obs_nums  = torch.tensor(nums[0])\n",
    "        self.alg_nums  = torch.tensor(nums[1])\n",
    "        self.crpl_nums = torch.tensor(nums[2])\n",
    "        self.med_nums  = torch.tensor(nums[3])\n",
    "        self.img_nums  = torch.tensor(nums[4])\n",
    "        self.proc_nums = torch.tensor(nums[5])\n",
    "        self.cnd_nums  = torch.tensor(nums[6])\n",
    "        self.imm_nums  = torch.tensor(nums[7])\n",
    "\n",
    "        self.obs_offsts  = torch.tensor(offsts[0])\n",
    "        self.alg_offsts  = torch.tensor(offsts[1])\n",
    "        self.crpl_offsts = torch.tensor(offsts[2])\n",
    "        self.med_offsts  = torch.tensor(offsts[3])\n",
    "        self.img_offsts  = torch.tensor(offsts[4])\n",
    "        self.proc_offsts = torch.tensor(offsts[5])\n",
    "        self.cnd_offsts  = torch.tensor(offsts[6])\n",
    "        self.imm_offsts  = torch.tensor(offsts[7])\n",
    "        \n",
    "        self.demographics = torch.tensor(demographics)\n",
    "        self.age_now      = torch.tensor([age_now])\n",
    "\n",
    "        self.ptid = ptid\n",
    "        self.birthdate = birthdate\n",
    "        self.diabetes = diabetes\n",
    "        self.stroke = stroke\n",
    "        self.alzheimers = alzheimers\n",
    "        self.coronaryheart = coronaryheart\n",
    "    \n",
    "    def __repr__(self):\n",
    "        return f'ptid:{self.ptid}, birthdate:{self.birthdate}, diabetes:{self.diabetes}, device:{self.alg_nums.device}'\n",
    "    \n",
    "    @classmethod\n",
    "    def create(cls, rec_dfs, demograph, vocablist, ptid, birthdate, diabetes, stroke, alzheimers, coronaryheart, age_start, age_stop, age_in_months):\n",
    "        codenums, offsts  = get_codenums_offsts(rec_dfs, vocablist.records_vocabs, age_start, age_stop, age_in_months)\n",
    "        demographics, age_now = get_demographics(demograph, vocablist.demographics_vocabs, vocablist.age_mean, vocablist.age_std)\n",
    "        return cls(codenums, offsts, demographics, age_now, birthdate, diabetes, stroke, alzheimers, coronaryheart, ptid)\n",
    "    \n",
    "    def to_gpu(self):\n",
    "        self.obs_nums  = self.obs_nums.cuda()\n",
    "        self.alg_nums  = self.alg_nums.cuda()\n",
    "        self.crpl_nums = self.crpl_nums.cuda()\n",
    "        self.med_nums  = self.med_nums.cuda()\n",
    "        self.img_nums  = self.img_nums.cuda()\n",
    "        self.proc_nums = self.proc_nums.cuda()\n",
    "        self.cnd_nums  = self.cnd_nums.cuda()\n",
    "        self.imm_nums  = self.imm_nums.cuda()\n",
    "\n",
    "        self.obs_offsts  = self.obs_offsts.cuda()\n",
    "        self.alg_offsts  = self.alg_offsts.cuda()\n",
    "        self.crpl_offsts = self.crpl_offsts.cuda()\n",
    "        self.med_offsts  = self.med_offsts.cuda()\n",
    "        self.img_offsts  = self.img_offsts.cuda()\n",
    "        self.proc_offsts = self.proc_offsts.cuda()\n",
    "        self.cnd_offsts  = self.cnd_offsts.cuda()\n",
    "        self.imm_offsts  = self.imm_offsts.cuda()\n",
    "        \n",
    "        self.demographics = self.demographics.cuda()\n",
    "        self.age_now      = self.age_now.cuda()\n",
    "        \n",
    "        return self"
   ]
  },
  {
   "cell_type": "markdown",
   "metadata": {},
   "source": [
    "### Tests"
   ]
  },
  {
   "cell_type": "code",
   "execution_count": null,
   "metadata": {},
   "outputs": [
    {
     "name": "stdout",
     "output_type": "stream",
     "text": [
      "CPU times: user 336 ms, sys: 0 ns, total: 336 ms\n",
      "Wall time: 334 ms\n"
     ]
    }
   ],
   "source": [
    "%time p1 = Patient.create(rec_dfs, demograph_vector, vocab_list_1K, tst_ptid, tst_pt_birthdate, tst_pt_diabetes, \\\n",
    "                                  tst_pt_stroke, tst_pt_alzheimers, tst_pt_coronaryheart, age_start=0, age_stop=20, age_in_months=False)"
   ]
  },
  {
   "cell_type": "code",
   "execution_count": null,
   "metadata": {},
   "outputs": [
    {
     "data": {
      "text/plain": [
       "236"
      ]
     },
     "execution_count": null,
     "metadata": {},
     "output_type": "execute_result"
    }
   ],
   "source": [
    "len(p1.obs_nums)"
   ]
  },
  {
   "cell_type": "code",
   "execution_count": null,
   "metadata": {},
   "outputs": [],
   "source": [
    "assert len(p1.obs_nums) == len(p_obs_codes)"
   ]
  },
  {
   "cell_type": "code",
   "execution_count": null,
   "metadata": {},
   "outputs": [
    {
     "data": {
      "text/plain": [
       "tensor([  0,  45,  63,  77,  91,  98, 116, 123, 130, 137, 144, 151, 169, 176,\n",
       "        183, 190, 197, 215, 222, 229])"
      ]
     },
     "execution_count": null,
     "metadata": {},
     "output_type": "execute_result"
    }
   ],
   "source": [
    "p1.obs_offsts"
   ]
  },
  {
   "cell_type": "code",
   "execution_count": null,
   "metadata": {},
   "outputs": [
    {
     "data": {
      "text/plain": [
       "(False, '0731de61-1a8b-4135-83c0-2ace696bcac8', '1934-11-27')"
      ]
     },
     "execution_count": null,
     "metadata": {},
     "output_type": "execute_result"
    }
   ],
   "source": [
    "p1.diabetes, p1.ptid, p1.birthdate"
   ]
  },
  {
   "cell_type": "code",
   "execution_count": null,
   "metadata": {},
   "outputs": [
    {
     "data": {
      "text/plain": [
       "ptid:0731de61-1a8b-4135-83c0-2ace696bcac8, birthdate:1934-11-27, diabetes:False, device:cpu"
      ]
     },
     "execution_count": null,
     "metadata": {},
     "output_type": "execute_result"
    }
   ],
   "source": [
    "p1"
   ]
  },
  {
   "cell_type": "code",
   "execution_count": null,
   "metadata": {},
   "outputs": [
    {
     "data": {
      "text/plain": [
       "tensor([28, 12, 36,  2,  2,  4,  3,  5,  4,  2,  4])"
      ]
     },
     "execution_count": null,
     "metadata": {},
     "output_type": "execute_result"
    }
   ],
   "source": [
    "p1.demographics"
   ]
  },
  {
   "cell_type": "code",
   "execution_count": null,
   "metadata": {},
   "outputs": [
    {
     "data": {
      "text/plain": [
       "tensor([1.5748], dtype=torch.float64)"
      ]
     },
     "execution_count": null,
     "metadata": {},
     "output_type": "execute_result"
    }
   ],
   "source": [
    "p1.age_now"
   ]
  },
  {
   "cell_type": "code",
   "execution_count": null,
   "metadata": {},
   "outputs": [
    {
     "data": {
      "text/plain": [
       "(torch.Size([11]), torch.Size([1]))"
      ]
     },
     "execution_count": null,
     "metadata": {},
     "output_type": "execute_result"
    }
   ],
   "source": [
    "p1.demographics.shape, p1.age_now.shape"
   ]
  },
  {
   "cell_type": "code",
   "execution_count": null,
   "metadata": {},
   "outputs": [
    {
     "data": {
      "text/plain": [
       "tensor([28, 12, 36,  2,  2,  4,  3,  5,  4,  2,  4,  1])"
      ]
     },
     "execution_count": null,
     "metadata": {},
     "output_type": "execute_result"
    }
   ],
   "source": [
    "torch.cat((p1.demographics, p1.age_now.type(torch.LongTensor)), dim=0)"
   ]
  },
  {
   "cell_type": "code",
   "execution_count": null,
   "metadata": {},
   "outputs": [
    {
     "data": {
      "text/plain": [
       "ptid:0731de61-1a8b-4135-83c0-2ace696bcac8, birthdate:1934-11-27, diabetes:False, device:cuda:0"
      ]
     },
     "execution_count": null,
     "metadata": {},
     "output_type": "execute_result"
    }
   ],
   "source": [
    "p1.to_gpu()"
   ]
  },
  {
   "cell_type": "code",
   "execution_count": null,
   "metadata": {},
   "outputs": [
    {
     "data": {
      "text/plain": [
       "(False,\n",
       " '0731de61-1a8b-4135-83c0-2ace696bcac8',\n",
       " tensor([  0,  45,  63,  77,  91,  98, 116, 123, 130, 137, 144, 151, 169, 176,\n",
       "         183, 190, 197, 215, 222, 229], device='cuda:0'),\n",
       " tensor([0, 0, 0, 0, 0, 0, 0, 0, 0, 0, 0, 0, 0, 0, 0, 0, 0, 0, 0, 0],\n",
       "        device='cuda:0'))"
      ]
     },
     "execution_count": null,
     "metadata": {},
     "output_type": "execute_result"
    }
   ],
   "source": [
    "p1.diabetes, p1.ptid, p1.obs_offsts, p1.alg_nums"
   ]
  },
  {
   "cell_type": "code",
   "execution_count": null,
   "metadata": {},
   "outputs": [
    {
     "data": {
      "text/plain": [
       "(tensor([28, 12, 36,  2,  2,  4,  3,  5,  4,  2,  4], device='cuda:0'),\n",
       " tensor([1.5748], device='cuda:0', dtype=torch.float64))"
      ]
     },
     "execution_count": null,
     "metadata": {},
     "output_type": "execute_result"
    }
   ],
   "source": [
    "p1.demographics, p1.age_now"
   ]
  },
  {
   "cell_type": "markdown",
   "metadata": {},
   "source": [
    "# `ItemList` - PatientList"
   ]
  },
  {
   "cell_type": "markdown",
   "metadata": {},
   "source": [
    "**Fixes needed to de-crappify**\n",
    "- `ItemList` needs inherit from `L` which uses [`listify()`](https://github.com/fastai/fastai/blob/b118a611729d32a45dd1293f416d6e743df109be/fastai/core.py#L129)\n",
    "- `PatientList` needs to inherit `ItemList`\n",
    "- Cleanup up `__repr__`, `__iter__`, etc\n",
    "\n",
    "**Performance - DONE for now**\n",
    "- Add multiprocessing to use multiple CPU cores\n",
    " - [Python Concurrency - Multiprocessing for CPU bound tasks](https://realpython.com/python-concurrency/#cpu-bound-multiprocessing-version)\n",
    " - [Using Multiprocessing to Make Python Code Faster](https://medium.com/@urban_institute/using-multiprocessing-to-make-python-code-faster-23ea5ef996ba)\n",
    " - 👍 - [Quick Tutorial: Python Multiprocessing](https://further-reading.net/2017/01/quick-tutorial-python-multiprocessing/)\n",
    " - [Ray library](https://towardsdatascience.com/10x-faster-parallel-python-without-python-multiprocessing-e5017c93cce1) based on Apache Arrow\n",
    "- Upgrade pytorch - initial cuda call taking too long\n",
    "\n",
    "**File descriptor sharing strategy issue - FIXED**\n",
    "- [Solution](https://discuss.pytorch.org/t/runtimeerror-received-0-items-of-ancdata/4999/4)👍\n",
    " - `torch.multiprocessing.set_sharing_strategy('file_system')`\n",
    "- [Another solution](https://github.com/pytorch/pytorch/issues/973#issuecomment-346405667) - increase `ulimit`\n",
    "- [Yet another solution](https://github.com/pytorch/pytorch/issues/973#issuecomment-346439265) - Jeremy (Nov 22, 2017) - use `ThreadPool`\n",
    " - [fastai forum discussion about ThreadPool solution](https://github.com/fastai/fastai/issues/23#issuecomment-346405976)"
   ]
  },
  {
   "cell_type": "markdown",
   "metadata": {},
   "source": [
    "## Multiprocessing Implementation"
   ]
  },
  {
   "cell_type": "markdown",
   "metadata": {},
   "source": [
    "### Chunking"
   ]
  },
  {
   "cell_type": "code",
   "execution_count": null,
   "metadata": {},
   "outputs": [],
   "source": [
    "less_patients = patients_df.iloc[:48]"
   ]
  },
  {
   "cell_type": "code",
   "execution_count": null,
   "metadata": {},
   "outputs": [
    {
     "data": {
      "text/plain": [
       "(array([ 0,  1,  2,  3,  4,  5,  6,  7,  8,  9, 10, 11, 12, 13, 14, 15, 16,\n",
       "        17, 18, 19, 20, 21, 22, 23, 24, 25, 26, 27, 28, 29, 30, 31, 32, 33,\n",
       "        34, 35, 36, 37, 38, 39, 40, 41, 42, 43, 44, 45, 46, 47]), 48, 2)"
      ]
     },
     "execution_count": null,
     "metadata": {},
     "output_type": "execute_result"
    }
   ],
   "source": [
    "all_indxs = np.arange(len(less_patients))\n",
    "cpu_cnt = 24\n",
    "chnk_sz = int(len(all_indxs)/cpu_cnt) \n",
    "all_indxs, len(all_indxs), chnk_sz"
   ]
  },
  {
   "cell_type": "code",
   "execution_count": null,
   "metadata": {},
   "outputs": [
    {
     "data": {
      "text/plain": [
       "(24, 2)"
      ]
     },
     "execution_count": null,
     "metadata": {},
     "output_type": "execute_result"
    }
   ],
   "source": [
    "indx_chunks = []\n",
    "for i in range(0, len(all_indxs), chnk_sz):\n",
    "    indx_chunks.append(list(all_indxs[i:i+chnk_sz]))\n",
    "\n",
    "len(indx_chunks), len(indx_chunks[0])"
   ]
  },
  {
   "cell_type": "markdown",
   "metadata": {},
   "source": [
    "### Multiprocessing Logic"
   ]
  },
  {
   "cell_type": "markdown",
   "metadata": {},
   "source": [
    "Current assumption of error is - main process dies and thus children see broken pipe error\n",
    "- Let the parallelized sub proc in each core load all data and do the heavy lifting\n",
    "- The main proc just sends a list of indxs (patients) to work on"
   ]
  },
  {
   "cell_type": "code",
   "execution_count": null,
   "metadata": {},
   "outputs": [],
   "source": [
    "import torch.multiprocessing as multiprocessing\n",
    "multiprocessing.set_sharing_strategy('file_system')\n",
    "cpu_cnt = int(multiprocessing.cpu_count())\n",
    "\n",
    "def subproc(indx_chnk):\n",
    "    print(multiprocessing.current_process().name, 'start: ',indx_chnk[0], 'end: ',indx_chnk[-1], 'len: ',len(indx_chnk))\n",
    "    return f'start:{indx_chnk[0]} -- len:{len(indx_chnk)}'\n",
    "\n",
    "def driverproc(total_pts):\n",
    "    indx_chnks = []\n",
    "    all_indxs = np.arange(total_pts)\n",
    "    chnk_sz = int(total_pts / cpu_cnt)\n",
    "    for i in range(0, total_pts, chnk_sz):\n",
    "        indx_chnks.append(list(all_indxs[i:i+chnk_sz]))\n",
    "    pool = multiprocessing.Pool(processes=cpu_cnt)\n",
    "    rs = pool.map(subproc, indx_chnks)\n",
    "    pool.close()\n",
    "    print(rs)"
   ]
  },
  {
   "cell_type": "code",
   "execution_count": null,
   "metadata": {},
   "outputs": [
    {
     "name": "stdout",
     "output_type": "stream",
     "text": [
      "ForkPoolWorker-1 start:  0 end:  414 len:  415\n",
      "ForkPoolWorker-2 start:  415 end:  829 len:  415\n",
      "ForkPoolWorker-3 start:  830 end:  1244 len:  415\n",
      "ForkPoolWorker-4 start:  1245 end:  1659 len:  415\n",
      "ForkPoolWorker-5 start:  1660 end:  2074 len:  415\n",
      "ForkPoolWorker-6 start:  2075 end:  2489 len:  415\n",
      "ForkPoolWorker-7 start:  2490 end:  2904 len:  415\n",
      "['start:0 -- len:415', 'start:415 -- len:415', 'start:830 -- len:415', 'start:1245 -- len:415', 'start:1660 -- len:415', 'start:2075 -- len:415', 'start:2490 -- len:415', 'start:2905 -- len:415', 'start:3320 -- len:415', 'start:3735 -- len:415', 'start:4150 -- len:415', 'start:4565 -- len:415', 'start:4980 -- len:415', 'start:5395 -- len:415', 'start:5810 -- len:415', 'start:6225 -- len:415', 'start:6640 -- len:415', 'start:7055 -- len:415', 'start:7470 -- len:415', 'start:7885 -- len:415', 'start:8300 -- len:415', 'start:8715 -- len:415', 'start:9130 -- len:415', 'start:9545 -- len:415', 'start:9960 -- len:9']\n",
      "ForkPoolWorker-8 start:  2905 end:  3319 len:  415\n",
      "ForkPoolWorker-9 start:  3320 end:  3734 len:  415\n",
      "ForkPoolWorker-10 start:  3735 end:  4149 len:  415\n",
      "ForkPoolWorker-11 start:  4150 end:  4564 len:  415\n",
      "ForkPoolWorker-12 start:  4565 end:  4979 len:  415\n",
      "ForkPoolWorker-13 start:  4980 end:  5394 len:  415\n",
      "ForkPoolWorker-14 start:  5395 end:  5809 len:  415\n",
      "ForkPoolWorker-15 start:  5810 end:  6224 len:  415\n",
      "ForkPoolWorker-16 start:  6225 end:  6639 len:  415\n",
      "ForkPoolWorker-17 start:  6640 end:  7054 len:  415\n",
      "ForkPoolWorker-18 start:  7055 end:  7469 len:  415\n",
      "ForkPoolWorker-19 start:  7470 end:  7884 len:  415\n",
      "ForkPoolWorker-20 start:  7885 end:  8299 len:  415\n",
      "ForkPoolWorker-21 start:  8300 end:  8714 len:  415\n",
      "ForkPoolWorker-22 start:  8715 end:  9129 len:  415\n",
      "ForkPoolWorker-23 start:  9130 end:  9544 len:  415\n",
      "ForkPoolWorker-1 start:  9960 end:  9968 len:  9\n",
      "ForkPoolWorker-24 start:  9545 end:  9959 len:  415\n"
     ]
    }
   ],
   "source": [
    "driverproc(9969) #(len(data_tables[0]))"
   ]
  },
  {
   "cell_type": "markdown",
   "metadata": {},
   "source": [
    "So for 1,108 pts\n",
    "- 24 proc processed 46 pts each = 1,104\n",
    "- then 1 proc (ForkPoolWorker-2 above) processed 4 more => 1108 total\n",
    "\n",
    "And for 9,969 pts\n",
    "- 24 processes 415 pts each = 9,960 \n",
    "- then 1 proc (ForkPoolWorker-1) processed 9 more = total 9969"
   ]
  },
  {
   "cell_type": "markdown",
   "metadata": {},
   "source": [
    "#### Useful Links + Tips"
   ]
  },
  {
   "cell_type": "markdown",
   "metadata": {},
   "source": [
    "- [Things I Wish They Told Me About Multiprocessing in Python](https://www.cloudcity.io/blog/2019/02/27/things-i-wish-they-told-me-about-multiprocessing-in-python/)\n",
    "- Log into `./logs` folder\n",
    "```python\n",
    "f = open(f'log/{multiprocessing.current_process().name}_log.txt','a+')\n",
    "f.write(f'{ptid} -started')\n",
    "f.write(\" --completed\\r\\n\")\n",
    "```"
   ]
  },
  {
   "cell_type": "markdown",
   "metadata": {},
   "source": [
    "## Class `PatientList`"
   ]
  },
  {
   "cell_type": "markdown",
   "metadata": {},
   "source": [
    "### `get_pckl_dir()` Util Function"
   ]
  },
  {
   "cell_type": "markdown",
   "metadata": {},
   "source": [
    "**No need for this anymore**\n",
    "```python\n",
    "#export\n",
    "def list_files(directory, extension):\n",
    "    return [f for f in os.listdir(directory) if f.endswith('.' + extension)]\n",
    "```"
   ]
  },
  {
   "cell_type": "code",
   "execution_count": null,
   "metadata": {},
   "outputs": [],
   "source": [
    "#export\n",
    "def get_pckl_dir(path, split, age_start, age_stop, age_in_months):\n",
    "    dir_name = ''\n",
    "    dir_name += 'months' if age_in_months else 'years'\n",
    "    dir_name += f'_{age_start}_to_{age_stop}'\n",
    "    pckl_dir = Path(f'{path}/processed/{dir_name}/{split}')\n",
    "    return pckl_dir"
   ]
  },
  {
   "cell_type": "markdown",
   "metadata": {},
   "source": [
    "### Awesome & Fast `PatientList` class"
   ]
  },
  {
   "cell_type": "code",
   "execution_count": null,
   "metadata": {},
   "outputs": [],
   "source": [
    "#export \n",
    "import torch.multiprocessing as multiprocessing\n",
    "multiprocessing.set_sharing_strategy('file_system')\n",
    "cpu_cnt = int(multiprocessing.cpu_count())\n",
    "\n",
    "class PatientList():\n",
    "    def __init__(self, pts, path, split, age_start, age_stop, age_in_months):\n",
    "        self.items     = pts\n",
    "        self.base_path = path\n",
    "        self.split     = split \n",
    "        self.age_start = age_start\n",
    "        self.age_stop  = age_stop\n",
    "        self.age_type  = 'months' if age_in_months else 'years'\n",
    "\n",
    "    def __len__(self): return len(self.items)\n",
    "    def __iter__(self): return iter(self.items)\n",
    "    def __getitem__(self, idx):\n",
    "        if isinstance(idx, (int,slice)): return self.items[idx]\n",
    "        if isinstance(idx[0],bool):\n",
    "            assert len(idx)==len(self) # bool mask\n",
    "            return [o for m,o in zip(idx,self.items) if m]\n",
    "        return [self.items[i] for i in idx]\n",
    "    def __repr__(self):\n",
    "        res  = f'{self.__class__.__name__} ({len(self)} items)\\n'\n",
    "        res += f'base path:{self.base_path}; split:{self.split}; age span:{self.age_stop - self.age_start} {self.age_type}\\n'\n",
    "        res += f'age_start:{self.age_start}; age_stop:{self.age_stop}; age_type:{self.age_type}\\n'\n",
    "        for item in self.items[:10]:\n",
    "            res += f'{item.__repr__()}\\n'\n",
    "        if len(self)>10: res = res[:-1]+ '...]'\n",
    "        return res\n",
    "\n",
    "    def _create_pts_chunk(indx_chnk, all_dfs, vocablist, pckl_dir, age_start, age_stop, age_in_months, verbose):\n",
    "\n",
    "        pckl_f = open(f'{pckl_dir}/patients_{indx_chnk[0]}_{indx_chnk[-1]}.ptlist', 'wb')\n",
    "        pts = []\n",
    "         \n",
    "        for indx in indx_chnk:\n",
    "            vals = all_dfs[0].iloc[indx].values\n",
    "            ptid, birthdate = vals[0], vals[1]\n",
    "            diabetes, stroke, alzheimers, coronaryheart = vals[2], vals[4], vals[6], vals[8]\n",
    "            \n",
    "            rec_dfs = []\n",
    "            for rec_df in all_dfs[2:]:\n",
    "                try:\n",
    "                    rec_dfs.append(rec_df.loc[[ptid]])\n",
    "                except KeyError:\n",
    "                    rec_dfs.append(pd.DataFrame())\n",
    "            \n",
    "            demograph = all_dfs[1].loc[ptid]\n",
    "            pts.append(Patient.create(rec_dfs, demograph, vocablist, ptid, birthdate, diabetes, stroke, alzheimers, coronaryheart, age_start, age_stop, age_in_months))\n",
    "        \n",
    "        pickle.dump(pts,pckl_f)\n",
    "        pckl_f.close()\n",
    "        if verbose: print(f'{multiprocessing.current_process().name}-- completed {len(indx_chnk)} patients')\n",
    "        return len(pts)\n",
    "\n",
    "    @classmethod\n",
    "    def create_save(cls, all_dfs, vocablist, pckl_dir, age_start, age_stop, age_in_months, verbose=False):\n",
    "        \n",
    "        pckl_dir.mkdir(parents=True, exist_ok=True)\n",
    "        pts, indx_chnks = [], []\n",
    "        \n",
    "        total_pts = len(all_dfs[0])\n",
    "        all_indxs = np.arange(total_pts)\n",
    "        chnk_sz = total_pts // (cpu_cnt-1)\n",
    "        for i in range(0, total_pts, chnk_sz):\n",
    "            indx_chnks.append(list(all_indxs[i:i+chnk_sz]))\n",
    "        \n",
    "        pool = multiprocessing.Pool(processes=cpu_cnt)\n",
    "        parallelize = partial(cls._create_pts_chunk, all_dfs=all_dfs, vocablist=vocablist, pckl_dir=pckl_dir, age_start=age_start, age_stop=age_stop, age_in_months=age_in_months, verbose=verbose)\n",
    "        all_chunks = pool.map(parallelize, indx_chnks)\n",
    "        pool.close()\n",
    "        \n",
    "        print(f'{sum(all_chunks)} total patients completed, saved patient list to {pckl_dir}')\n",
    "\n",
    "    @classmethod\n",
    "    def load(cls, path, split, age_start, age_stop, age_in_months):\n",
    "        pckl_dir = get_pckl_dir(path, split, age_start, age_stop, age_in_months)\n",
    "        ptlist = []\n",
    "        for file in Path(pckl_dir).glob(\"*.ptlist\"):\n",
    "            with open(file, 'rb') as infile:\n",
    "                ptlist.extend(pickle.load(infile))\n",
    "                \n",
    "        return(cls(ptlist, path, split, age_start, age_stop, age_in_months))"
   ]
  },
  {
   "cell_type": "markdown",
   "metadata": {},
   "source": [
    "#### Test"
   ]
  },
  {
   "cell_type": "code",
   "execution_count": null,
   "metadata": {},
   "outputs": [],
   "source": [
    "tst_pckl_dir = get_pckl_dir(PATH_1K, split='train', age_start=0, age_stop=20, age_in_months=False)"
   ]
  },
  {
   "cell_type": "code",
   "execution_count": null,
   "metadata": {},
   "outputs": [
    {
     "data": {
      "text/plain": [
       "PosixPath('datasets/synthea/1K/processed/years_0_to_20/train')"
      ]
     },
     "execution_count": null,
     "metadata": {},
     "output_type": "execute_result"
    }
   ],
   "source": [
    "tst_pckl_dir"
   ]
  },
  {
   "cell_type": "code",
   "execution_count": null,
   "metadata": {},
   "outputs": [
    {
     "name": "stdout",
     "output_type": "stream",
     "text": [
      "664 total patients completed, saved patient list to datasets/synthea/1K/processed/years_0_to_20/train\n",
      "CPU times: user 1.75 s, sys: 821 ms, total: 2.57 s\n",
      "Wall time: 17.6 s\n"
     ]
    }
   ],
   "source": [
    "%time PatientList.create_save(all_dfs, vocab_list_1K, tst_pckl_dir, age_start=0, age_stop=20, age_in_months=False)"
   ]
  },
  {
   "cell_type": "markdown",
   "metadata": {},
   "source": [
    "# `create_all_ptlists()`"
   ]
  },
  {
   "cell_type": "code",
   "execution_count": null,
   "metadata": {},
   "outputs": [],
   "source": [
    "#export\n",
    "def create_all_ptlists(path:Path, age_start:int, age_stop:int, age_in_months:bool, vocab_path:Path=None, verbose:bool=False, delete_existing:bool=True):\n",
    "    '''Create Patient Lists for train, valid and test'''\n",
    "    if vocab_path is None: vocab_path = path\n",
    "    all_dfs_splits = load_cleaned_ehrdata(path) #train_dfs, valid_dfs, test_dfs\n",
    "    splits = ['train', 'valid', 'test']\n",
    "    vocablist = EhrVocabList.load(vocab_path)\n",
    "    \n",
    "    for all_dfs, split in zip(all_dfs_splits, splits):\n",
    "        pckl_dir = get_pckl_dir(path, split, age_start, age_stop, age_in_months)\n",
    "        if delete_existing:\n",
    "            for file in Path(pckl_dir).glob(\"*.ptlist\"):\n",
    "                file.unlink()\n",
    "        PatientList.create_save(all_dfs, vocablist, pckl_dir, age_start, age_stop, age_in_months, verbose)"
   ]
  },
  {
   "cell_type": "markdown",
   "metadata": {},
   "source": [
    "### Tests"
   ]
  },
  {
   "cell_type": "markdown",
   "metadata": {},
   "source": [
    "#### 1K"
   ]
  },
  {
   "cell_type": "code",
   "execution_count": null,
   "metadata": {},
   "outputs": [
    {
     "name": "stdout",
     "output_type": "stream",
     "text": [
      "664 total patients completed, saved patient list to datasets/synthea/1K/processed/years_0_to_20/train\n",
      "222 total patients completed, saved patient list to datasets/synthea/1K/processed/years_0_to_20/valid\n",
      "222 total patients completed, saved patient list to datasets/synthea/1K/processed/years_0_to_20/test\n",
      "CPU times: user 3.66 s, sys: 1.98 s, total: 5.64 s\n",
      "Wall time: 32.4 s\n"
     ]
    }
   ],
   "source": [
    "%time create_all_ptlists(PATH_1K, age_start=0, age_stop=20, age_in_months=False, verbose=False)"
   ]
  },
  {
   "cell_type": "code",
   "execution_count": null,
   "metadata": {},
   "outputs": [
    {
     "name": "stdout",
     "output_type": "stream",
     "text": [
      "664 total patients completed, saved patient list to datasets/synthea/1K/processed/years_0_to_35/train\n",
      "222 total patients completed, saved patient list to datasets/synthea/1K/processed/years_0_to_35/valid\n",
      "222 total patients completed, saved patient list to datasets/synthea/1K/processed/years_0_to_35/test\n",
      "CPU times: user 3.66 s, sys: 1.93 s, total: 5.59 s\n",
      "Wall time: 40.2 s\n"
     ]
    }
   ],
   "source": [
    "%time create_all_ptlists(PATH_1K, age_start=0, age_stop=35, age_in_months=False, verbose=False)"
   ]
  },
  {
   "cell_type": "code",
   "execution_count": null,
   "metadata": {},
   "outputs": [
    {
     "name": "stdout",
     "output_type": "stream",
     "text": [
      "664 total patients completed, saved patient list to datasets/synthea/1K/processed/months_120_to_360/train\n",
      "222 total patients completed, saved patient list to datasets/synthea/1K/processed/months_120_to_360/valid\n",
      "222 total patients completed, saved patient list to datasets/synthea/1K/processed/months_120_to_360/test\n",
      "CPU times: user 3.84 s, sys: 1.98 s, total: 5.82 s\n",
      "Wall time: 46.8 s\n"
     ]
    }
   ],
   "source": [
    "%time create_all_ptlists(PATH_1K, age_start=120, age_stop=360, age_in_months=True) #10 to 30 yrs in mos (seq_len = 240)"
   ]
  },
  {
   "cell_type": "code",
   "execution_count": null,
   "metadata": {},
   "outputs": [
    {
     "name": "stdout",
     "output_type": "stream",
     "text": [
      "664 total patients completed, saved patient list to datasets/synthea/1K/processed/months_240_to_360/train\n",
      "222 total patients completed, saved patient list to datasets/synthea/1K/processed/months_240_to_360/valid\n",
      "222 total patients completed, saved patient list to datasets/synthea/1K/processed/months_240_to_360/test\n",
      "CPU times: user 3.81 s, sys: 1.91 s, total: 5.72 s\n",
      "Wall time: 22.8 s\n"
     ]
    }
   ],
   "source": [
    "%time create_all_ptlists(PATH_1K, age_start=240, age_stop=360, age_in_months=True) #20 to 30 yrs in mos (seq_len = 120)"
   ]
  },
  {
   "cell_type": "code",
   "execution_count": null,
   "metadata": {},
   "outputs": [],
   "source": [
    "ptlist_1K = PatientList.load(PATH_1K, 'train', age_start=120, age_stop=360, age_in_months=True)"
   ]
  },
  {
   "cell_type": "code",
   "execution_count": null,
   "metadata": {},
   "outputs": [
    {
     "data": {
      "text/plain": [
       "664"
      ]
     },
     "execution_count": null,
     "metadata": {},
     "output_type": "execute_result"
    }
   ],
   "source": [
    "len(ptlist_1K)"
   ]
  },
  {
   "cell_type": "code",
   "execution_count": null,
   "metadata": {},
   "outputs": [
    {
     "data": {
      "text/plain": [
       "PatientList (664 items)\n",
       "base path:./datasets/synthea/1K; split:train; age span:240 months\n",
       "age_start:120; age_stop:360; age_type:months\n",
       "ptid:12b42348-29bb-4cf4-b878-d419a4c8f067, birthdate:1951-09-04, diabetes:False, device:cpu\n",
       "ptid:4c59df3b-042b-42c2-901a-3783d6d77919, birthdate:1979-09-18, diabetes:False, device:cpu\n",
       "ptid:8f07e577-7ab4-4e89-ae98-6d394b3929a9, birthdate:1967-01-13, diabetes:False, device:cpu\n",
       "ptid:653753d9-a52f-4ef3-b285-bdc3c671293c, birthdate:1971-12-26, diabetes:False, device:cpu\n",
       "ptid:1b801001-0bf9-4ad9-b175-9de9bc2d905f, birthdate:1979-11-26, diabetes:False, device:cpu\n",
       "ptid:da6203bc-bb24-4628-9aed-2b851571ee36, birthdate:1999-03-14, diabetes:False, device:cpu\n",
       "ptid:b02cd0ff-e891-4caa-b69b-2da7cb267578, birthdate:1957-09-12, diabetes:True, device:cpu\n",
       "ptid:49a859d3-318a-4212-864e-cf7d17f5032c, birthdate:2006-04-24, diabetes:False, device:cpu\n",
       "ptid:cb9293c4-243f-427e-ba70-6834c5872be6, birthdate:1952-10-21, diabetes:True, device:cpu\n",
       "ptid:cf82e51b-5c34-4010-b904-1583b009ebc2, birthdate:2010-08-22, diabetes:False, device:cpu...]"
      ]
     },
     "execution_count": null,
     "metadata": {},
     "output_type": "execute_result"
    }
   ],
   "source": [
    "ptlist_1K"
   ]
  },
  {
   "cell_type": "code",
   "execution_count": null,
   "metadata": {},
   "outputs": [
    {
     "data": {
      "text/plain": [
       "(326, 240)"
      ]
     },
     "execution_count": null,
     "metadata": {},
     "output_type": "execute_result"
    }
   ],
   "source": [
    "len(ptlist_1K.items[200].obs_nums), len(ptlist_1K.items[200].obs_offsts)"
   ]
  },
  {
   "cell_type": "code",
   "execution_count": null,
   "metadata": {},
   "outputs": [
    {
     "data": {
      "text/plain": [
       "tensor([0, 0, 0, 0, 0, 0, 0, 0, 0, 0, 0, 0, 0, 0, 0, 0, 0, 0, 0, 0, 0, 0, 0, 0,\n",
       "        0, 0, 0, 0, 0, 0, 0, 0, 0, 0, 0, 0, 0, 0, 0, 0, 0, 0, 0, 0, 0, 0, 0, 0,\n",
       "        0, 0, 0, 0, 0, 0, 0, 0, 0, 0, 0, 0, 0, 0, 0, 0, 0, 0, 0, 0, 0, 0, 0, 0,\n",
       "        0, 0, 0, 0, 0, 0, 0, 0, 0, 0, 0, 0, 0, 0, 0, 0, 0, 0, 0, 0, 0, 0, 0, 0,\n",
       "        0, 0, 0, 0, 0, 0, 0, 0, 0, 0, 0, 0, 0, 0, 0, 0, 0, 0, 0, 0, 0, 0, 0, 0,\n",
       "        0, 0, 0, 0, 0, 0, 0, 0, 0, 0, 0, 0, 0, 0, 0, 0, 0, 0, 0, 0, 0, 0, 0, 0,\n",
       "        0, 0, 0, 0, 0, 0, 0, 0, 0, 0, 0, 0, 0, 0, 0, 0, 0, 0, 0, 0, 0, 0, 0, 0,\n",
       "        0, 0, 0, 0, 0, 0, 0, 0, 0, 0, 0, 0, 0, 0, 0, 0, 0, 0, 0, 0, 0, 0, 0, 0,\n",
       "        0, 0, 0, 0, 0, 0, 0, 0, 0, 0, 0, 0, 0, 0, 0, 0, 0, 0, 0, 0, 0, 0, 0, 0,\n",
       "        0, 0, 0, 0, 0, 0, 0, 0, 0, 0, 0, 0, 0, 0, 0, 0, 0, 0, 0, 0, 0, 0, 0, 0])"
      ]
     },
     "execution_count": null,
     "metadata": {},
     "output_type": "execute_result"
    }
   ],
   "source": [
    "ptlist_1K.items[200].alg_nums"
   ]
  },
  {
   "cell_type": "code",
   "execution_count": null,
   "metadata": {},
   "outputs": [
    {
     "data": {
      "text/plain": [
       "tensor([ 0,  0,  0,  0,  0,  0,  0,  0,  0,  0,  0,  0,  0,  0,  0,  0,  0,  0,\n",
       "         0,  0,  0,  0,  0,  0,  0,  0,  0,  0,  0,  0,  0,  0,  0,  0,  0,  0,\n",
       "         0,  0,  0,  0,  0,  0,  0,  0,  0,  0,  0,  0,  0,  0,  0,  0,  0,  0,\n",
       "         0,  0,  0,  0,  0,  0,  0,  0,  0,  0,  0,  0,  0,  0,  0,  0,  0,  0,\n",
       "         0,  0,  0,  0,  0,  0, 19, 22, 23,  0,  0,  0,  0,  0,  0,  0, 25,  0,\n",
       "         0,  0,  0,  0,  0,  0,  0,  0,  0,  0,  0,  0,  0,  0,  0,  0,  0,  0,\n",
       "         0,  0,  0,  0,  0,  0,  0,  0,  0,  0,  0,  0,  0,  0,  0,  0,  0,  0,\n",
       "         0,  0,  0,  0,  0,  0,  0,  0,  0,  0,  0,  0,  0,  0,  0,  0,  0,  0,\n",
       "         0,  0,  0,  0,  0,  0,  0,  0,  0,  0,  0,  0,  0,  0,  0,  0,  0,  0,\n",
       "         0,  0,  0,  0,  0,  0,  0,  0,  0,  0,  0,  0,  0,  0,  0,  0,  0,  0,\n",
       "         0,  0,  0,  0,  0,  0,  0,  0,  0,  0,  0,  0,  0,  0,  0,  0,  0,  0,\n",
       "         0,  0,  0,  0,  0,  0,  0,  0,  0,  0,  0,  0,  0,  0,  0,  0,  0,  0,\n",
       "         0,  0,  0,  0,  0,  0,  0,  0,  0,  0,  0,  0,  0,  0,  0,  0,  0,  0,\n",
       "         0,  0,  0,  0,  0,  0,  0,  0])"
      ]
     },
     "execution_count": null,
     "metadata": {},
     "output_type": "execute_result"
    }
   ],
   "source": [
    "ptlist_1K[300].alg_nums"
   ]
  },
  {
   "cell_type": "markdown",
   "metadata": {},
   "source": [
    "#### 10K"
   ]
  },
  {
   "cell_type": "code",
   "execution_count": null,
   "metadata": {},
   "outputs": [
    {
     "name": "stdout",
     "output_type": "stream",
     "text": [
      "6645 total patients completed, saved patient list to datasets/synthea/10K/processed/years_0_to_20/train\n",
      "2215 total patients completed, saved patient list to datasets/synthea/10K/processed/years_0_to_20/valid\n",
      "2216 total patients completed, saved patient list to datasets/synthea/10K/processed/years_0_to_20/test\n",
      "CPU times: user 30.4 s, sys: 7.74 s, total: 38.1 s\n",
      "Wall time: 5min 1s\n"
     ]
    }
   ],
   "source": [
    "%time create_all_ptlists(PATH_10K, age_start=0, age_stop=20, age_in_months=False, verbose=False)"
   ]
  },
  {
   "cell_type": "code",
   "execution_count": null,
   "metadata": {},
   "outputs": [],
   "source": [
    "ptlist_10K_test = PatientList.load(PATH_10K, 'test', age_start=0, age_stop=20, age_in_months=False)"
   ]
  },
  {
   "cell_type": "code",
   "execution_count": null,
   "metadata": {},
   "outputs": [
    {
     "data": {
      "text/plain": [
       "PatientList (2216 items)\n",
       "base path:./datasets/synthea/10K; split:test; age span:20 years\n",
       "age_start:0; age_stop:20; age_type:years\n",
       "ptid:34b27871-713c-41e2-816c-c74bdfad0e39, birthdate:1991-01-23, diabetes:False, device:cpu\n",
       "ptid:d4bc2dec-8bf3-44ae-9c02-e3d27f917cbb, birthdate:2015-04-12, diabetes:False, device:cpu\n",
       "ptid:3b91276a-5b1c-4e8f-98cc-ff5743c05f0d, birthdate:1989-10-14, diabetes:False, device:cpu\n",
       "ptid:67672c74-d139-4b80-afa5-79866cc443b7, birthdate:1969-12-18, diabetes:False, device:cpu\n",
       "ptid:81ab3bbb-5764-4d4d-9dbb-0c4ed1a49063, birthdate:2000-09-28, diabetes:False, device:cpu\n",
       "ptid:898e007b-0c63-480e-9ce9-f64ed8ff0ae0, birthdate:1952-11-02, diabetes:False, device:cpu\n",
       "ptid:f87dba81-400c-4959-90c0-bce963b24c95, birthdate:1975-08-02, diabetes:False, device:cpu\n",
       "ptid:e8317720-ebd1-4bc1-9092-b9332361e8e3, birthdate:2008-09-06, diabetes:False, device:cpu\n",
       "ptid:8439fc83-0086-4b86-9f68-871f0c789414, birthdate:1947-10-06, diabetes:False, device:cpu\n",
       "ptid:efefc282-2add-405d-883b-ed83bdad0cc8, birthdate:1970-10-11, diabetes:False, device:cpu...]"
      ]
     },
     "execution_count": null,
     "metadata": {},
     "output_type": "execute_result"
    }
   ],
   "source": [
    "ptlist_10K_test"
   ]
  },
  {
   "cell_type": "code",
   "execution_count": null,
   "metadata": {},
   "outputs": [
    {
     "data": {
      "text/plain": [
       "tensor([  2,   8,  12,  20,  24,  30,  34,  40,  45,  51,  54,  60,  65,  70,\n",
       "        597,   2,   8,  12,  73,  78, 597,   2,   7,  12,  72,  77, 597,   3,\n",
       "          8,  12,  73,  77, 597,   3,   7,  12,  73,  77, 597,   3,   8,  12,\n",
       "         74,  78, 597,   3,   7,  12,  73,  77, 597,   3,   8,  12,  73,  78,\n",
       "        597,   3,   7,  12,  73,  78, 597,   3,   7,  12,  82,  73,  78, 597,\n",
       "          3,   8,  12,  82,  72,  77, 597,   3,   8,  12,  82,  72,  78, 597,\n",
       "         88,   3,   8,  12,  82,  72,  78, 597,   4,   8,  12,  82,  73,  77,\n",
       "        597,   4,   8,  12,  82,  73,  78,  21,  23,  30,  35,  37,  42,  50,\n",
       "         54,  59,  63,  69, 597,   4,   7,  12,  82,  73,  78, 597,   4,   8,\n",
       "         12,  82,  72,  78, 597,   0,   4,   7,  12,  82,  72,  78, 597,   4,\n",
       "          8,  12,  82,  72,  78, 597,   4,   8,  12,  82,  72,  78, 597,   5,\n",
       "          7,  12,  82,  73,  78,  18,  25,  29,  34,  38,  43,  50,  54,  58,\n",
       "         65,  70, 597,   5,   9,  12,  82,  73,  77, 597,   5,   8,  12,  82,\n",
       "         73,  78, 597,   5,   8,  12,  82,  72,  78, 597,   5,   8,  12,  82,\n",
       "         74,  77, 597,   5,   8,  12,  82,  73,  77, 597,   5,   8,  12,  82,\n",
       "         73,  77,  20,  23,  31,  34,  37,  45,  48,  52,  60,  65,  68, 597,\n",
       "          5,   7,  12,  82,  72,  77, 597,   5,   8,  12,  82,  73,  78, 597,\n",
       "          5,   8,  12,  82,  73,  78, 597])"
      ]
     },
     "execution_count": null,
     "metadata": {},
     "output_type": "execute_result"
    }
   ],
   "source": [
    "ptlist_10K_test[300].obs_nums"
   ]
  },
  {
   "cell_type": "markdown",
   "metadata": {},
   "source": [
    "# Do All Preprocessing"
   ]
  },
  {
   "cell_type": "code",
   "execution_count": null,
   "metadata": {},
   "outputs": [],
   "source": [
    "#export\n",
    "def preprocess_ehr_dataset(path, today, valid_pct=0.2, test_pct=0.2, obs_vocab_buckets=5,\n",
    "                           age_start=0, age_stop=20, age_in_months=False, vocab_path=None, from_raw_data=False):\n",
    "    if from_raw_data:\n",
    "        print('------------------- Splitting and cleaning raw dataset -------------------')\n",
    "        clean_raw_ehrdata(path, valid_pct, test_pct, today)\n",
    "        print('------------------- Creating vocab lists -------------------')\n",
    "        EhrVocabList.create(path, num_buckets=obs_vocab_buckets).save()\n",
    "    else:\n",
    "        print('Since data is pre-cleaned, skipping Cleaning, Splitting and Vocab-creation')\n",
    " \n",
    "    print('------------------- Creating patient lists -------------------')\n",
    "    create_all_ptlists(path, age_start, age_stop, age_in_months, vocab_path)"
   ]
  },
  {
   "cell_type": "markdown",
   "metadata": {},
   "source": [
    "# Export"
   ]
  },
  {
   "cell_type": "code",
   "execution_count": null,
   "metadata": {},
   "outputs": [
    {
     "name": "stdout",
     "output_type": "stream",
     "text": [
      "Converted 01_preprocessing_clean.ipynb.\n",
      "Converted 02_preprocessing_vocab.ipynb.\n",
      "Converted 03_preprocessing_transform.ipynb.\n",
      "Converted index.ipynb.\n"
     ]
    }
   ],
   "source": [
    "#hide\n",
    "from nbdev.export import *\n",
    "notebook2script()"
   ]
  },
  {
   "cell_type": "code",
   "execution_count": null,
   "metadata": {},
   "outputs": [],
   "source": []
  }
 ],
 "metadata": {
  "kernelspec": {
   "display_name": "Python 3",
   "language": "python",
   "name": "python3"
  }
 },
 "nbformat": 4,
 "nbformat_minor": 2
}
